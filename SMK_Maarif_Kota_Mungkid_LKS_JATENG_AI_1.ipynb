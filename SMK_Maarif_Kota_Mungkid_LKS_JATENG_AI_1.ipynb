{
  "nbformat": 4,
  "nbformat_minor": 0,
  "metadata": {
    "colab": {
      "name": "SMK Maarif Kota Mungkid_LKS_JATENG_AI_1.ipynb",
      "provenance": [],
      "collapsed_sections": [
        "CDA_XIsx3ddC",
        "TPeOoFtb6q5A",
        "p5DRSlEd8Ufw"
      ]
    },
    "kernelspec": {
      "name": "python3",
      "display_name": "Python 3"
    },
    "language_info": {
      "name": "python"
    }
  },
  "cells": [
    {
      "cell_type": "markdown",
      "metadata": {
        "id": "_YPBdmMs3KDK"
      },
      "source": [
        "# **TOPIK: DATA PREPARATION FOR FORECASTING (A1)**"
      ]
    },
    {
      "cell_type": "markdown",
      "metadata": {
        "id": "CDA_XIsx3ddC"
      },
      "source": [
        "# Identify multiple source data\n",
        "\n",
        "1. Identifikasi dataset yang diberikan sebagai berikut:\n",
        "https://www.kaggle.com/shree1992/housedata\n",
        "\n",
        "2. jelaskan kategori atau tipe data untuk masing - masing atribut atau variable\n",
        "3. baca dataset tersebut dengan Python pandas dan berikan dokumentasi sederhana mengenai cara kerja\n",
        "\n"
      ]
    },
    {
      "cell_type": "code",
      "metadata": {
        "id": "3FAaIvCxf8z-",
        "colab": {
          "base_uri": "https://localhost:8080/"
        },
        "outputId": "c2546b7b-9c67-48b7-a6b0-227efff4e9d2"
      },
      "source": [
        "import pandas as pd\n",
        "\n",
        "dt=pd.read_csv('data.csv')\n",
        "df=pd.DataFrame(dt)\n",
        "df"
      ],
      "execution_count": null,
      "outputs": [
        {
          "output_type": "execute_result",
          "data": {
            "text/html": [
              "<div>\n",
              "<style scoped>\n",
              "    .dataframe tbody tr th:only-of-type {\n",
              "        vertical-align: middle;\n",
              "    }\n",
              "\n",
              "    .dataframe tbody tr th {\n",
              "        vertical-align: top;\n",
              "    }\n",
              "\n",
              "    .dataframe thead th {\n",
              "        text-align: right;\n",
              "    }\n",
              "</style>\n",
              "<table border=\"1\" class=\"dataframe\">\n",
              "  <thead>\n",
              "    <tr style=\"text-align: right;\">\n",
              "      <th></th>\n",
              "      <th>date</th>\n",
              "      <th>price</th>\n",
              "      <th>bedrooms</th>\n",
              "      <th>bathrooms</th>\n",
              "      <th>sqft_living</th>\n",
              "      <th>sqft_lot</th>\n",
              "      <th>floors</th>\n",
              "      <th>waterfront</th>\n",
              "      <th>view</th>\n",
              "      <th>condition</th>\n",
              "      <th>sqft_above</th>\n",
              "      <th>sqft_basement</th>\n",
              "      <th>yr_built</th>\n",
              "      <th>yr_renovated</th>\n",
              "      <th>street</th>\n",
              "      <th>city</th>\n",
              "      <th>statezip</th>\n",
              "      <th>country</th>\n",
              "    </tr>\n",
              "  </thead>\n",
              "  <tbody>\n",
              "    <tr>\n",
              "      <th>0</th>\n",
              "      <td>2014-05-02 00:00:00</td>\n",
              "      <td>3.130000e+05</td>\n",
              "      <td>3.0</td>\n",
              "      <td>1.50</td>\n",
              "      <td>1340</td>\n",
              "      <td>7912</td>\n",
              "      <td>1.5</td>\n",
              "      <td>0</td>\n",
              "      <td>0</td>\n",
              "      <td>3</td>\n",
              "      <td>1340</td>\n",
              "      <td>0</td>\n",
              "      <td>1955</td>\n",
              "      <td>2005</td>\n",
              "      <td>18810 Densmore Ave N</td>\n",
              "      <td>Shoreline</td>\n",
              "      <td>WA 98133</td>\n",
              "      <td>USA</td>\n",
              "    </tr>\n",
              "    <tr>\n",
              "      <th>1</th>\n",
              "      <td>2014-05-02 00:00:00</td>\n",
              "      <td>2.384000e+06</td>\n",
              "      <td>5.0</td>\n",
              "      <td>2.50</td>\n",
              "      <td>3650</td>\n",
              "      <td>9050</td>\n",
              "      <td>2.0</td>\n",
              "      <td>0</td>\n",
              "      <td>4</td>\n",
              "      <td>5</td>\n",
              "      <td>3370</td>\n",
              "      <td>280</td>\n",
              "      <td>1921</td>\n",
              "      <td>0</td>\n",
              "      <td>709 W Blaine St</td>\n",
              "      <td>Seattle</td>\n",
              "      <td>WA 98119</td>\n",
              "      <td>USA</td>\n",
              "    </tr>\n",
              "    <tr>\n",
              "      <th>2</th>\n",
              "      <td>2014-05-02 00:00:00</td>\n",
              "      <td>3.420000e+05</td>\n",
              "      <td>3.0</td>\n",
              "      <td>2.00</td>\n",
              "      <td>1930</td>\n",
              "      <td>11947</td>\n",
              "      <td>1.0</td>\n",
              "      <td>0</td>\n",
              "      <td>0</td>\n",
              "      <td>4</td>\n",
              "      <td>1930</td>\n",
              "      <td>0</td>\n",
              "      <td>1966</td>\n",
              "      <td>0</td>\n",
              "      <td>26206-26214 143rd Ave SE</td>\n",
              "      <td>Kent</td>\n",
              "      <td>WA 98042</td>\n",
              "      <td>USA</td>\n",
              "    </tr>\n",
              "    <tr>\n",
              "      <th>3</th>\n",
              "      <td>2014-05-02 00:00:00</td>\n",
              "      <td>4.200000e+05</td>\n",
              "      <td>3.0</td>\n",
              "      <td>2.25</td>\n",
              "      <td>2000</td>\n",
              "      <td>8030</td>\n",
              "      <td>1.0</td>\n",
              "      <td>0</td>\n",
              "      <td>0</td>\n",
              "      <td>4</td>\n",
              "      <td>1000</td>\n",
              "      <td>1000</td>\n",
              "      <td>1963</td>\n",
              "      <td>0</td>\n",
              "      <td>857 170th Pl NE</td>\n",
              "      <td>Bellevue</td>\n",
              "      <td>WA 98008</td>\n",
              "      <td>USA</td>\n",
              "    </tr>\n",
              "    <tr>\n",
              "      <th>4</th>\n",
              "      <td>2014-05-02 00:00:00</td>\n",
              "      <td>5.500000e+05</td>\n",
              "      <td>4.0</td>\n",
              "      <td>2.50</td>\n",
              "      <td>1940</td>\n",
              "      <td>10500</td>\n",
              "      <td>1.0</td>\n",
              "      <td>0</td>\n",
              "      <td>0</td>\n",
              "      <td>4</td>\n",
              "      <td>1140</td>\n",
              "      <td>800</td>\n",
              "      <td>1976</td>\n",
              "      <td>1992</td>\n",
              "      <td>9105 170th Ave NE</td>\n",
              "      <td>Redmond</td>\n",
              "      <td>WA 98052</td>\n",
              "      <td>USA</td>\n",
              "    </tr>\n",
              "    <tr>\n",
              "      <th>...</th>\n",
              "      <td>...</td>\n",
              "      <td>...</td>\n",
              "      <td>...</td>\n",
              "      <td>...</td>\n",
              "      <td>...</td>\n",
              "      <td>...</td>\n",
              "      <td>...</td>\n",
              "      <td>...</td>\n",
              "      <td>...</td>\n",
              "      <td>...</td>\n",
              "      <td>...</td>\n",
              "      <td>...</td>\n",
              "      <td>...</td>\n",
              "      <td>...</td>\n",
              "      <td>...</td>\n",
              "      <td>...</td>\n",
              "      <td>...</td>\n",
              "      <td>...</td>\n",
              "    </tr>\n",
              "    <tr>\n",
              "      <th>4595</th>\n",
              "      <td>2014-07-09 00:00:00</td>\n",
              "      <td>3.081667e+05</td>\n",
              "      <td>3.0</td>\n",
              "      <td>1.75</td>\n",
              "      <td>1510</td>\n",
              "      <td>6360</td>\n",
              "      <td>1.0</td>\n",
              "      <td>0</td>\n",
              "      <td>0</td>\n",
              "      <td>4</td>\n",
              "      <td>1510</td>\n",
              "      <td>0</td>\n",
              "      <td>1954</td>\n",
              "      <td>1979</td>\n",
              "      <td>501 N 143rd St</td>\n",
              "      <td>Seattle</td>\n",
              "      <td>WA 98133</td>\n",
              "      <td>USA</td>\n",
              "    </tr>\n",
              "    <tr>\n",
              "      <th>4596</th>\n",
              "      <td>2014-07-09 00:00:00</td>\n",
              "      <td>5.343333e+05</td>\n",
              "      <td>3.0</td>\n",
              "      <td>2.50</td>\n",
              "      <td>1460</td>\n",
              "      <td>7573</td>\n",
              "      <td>2.0</td>\n",
              "      <td>0</td>\n",
              "      <td>0</td>\n",
              "      <td>3</td>\n",
              "      <td>1460</td>\n",
              "      <td>0</td>\n",
              "      <td>1983</td>\n",
              "      <td>2009</td>\n",
              "      <td>14855 SE 10th Pl</td>\n",
              "      <td>Bellevue</td>\n",
              "      <td>WA 98007</td>\n",
              "      <td>USA</td>\n",
              "    </tr>\n",
              "    <tr>\n",
              "      <th>4597</th>\n",
              "      <td>2014-07-09 00:00:00</td>\n",
              "      <td>4.169042e+05</td>\n",
              "      <td>3.0</td>\n",
              "      <td>2.50</td>\n",
              "      <td>3010</td>\n",
              "      <td>7014</td>\n",
              "      <td>2.0</td>\n",
              "      <td>0</td>\n",
              "      <td>0</td>\n",
              "      <td>3</td>\n",
              "      <td>3010</td>\n",
              "      <td>0</td>\n",
              "      <td>2009</td>\n",
              "      <td>0</td>\n",
              "      <td>759 Ilwaco Pl NE</td>\n",
              "      <td>Renton</td>\n",
              "      <td>WA 98059</td>\n",
              "      <td>USA</td>\n",
              "    </tr>\n",
              "    <tr>\n",
              "      <th>4598</th>\n",
              "      <td>2014-07-10 00:00:00</td>\n",
              "      <td>2.034000e+05</td>\n",
              "      <td>4.0</td>\n",
              "      <td>2.00</td>\n",
              "      <td>2090</td>\n",
              "      <td>6630</td>\n",
              "      <td>1.0</td>\n",
              "      <td>0</td>\n",
              "      <td>0</td>\n",
              "      <td>3</td>\n",
              "      <td>1070</td>\n",
              "      <td>1020</td>\n",
              "      <td>1974</td>\n",
              "      <td>0</td>\n",
              "      <td>5148 S Creston St</td>\n",
              "      <td>Seattle</td>\n",
              "      <td>WA 98178</td>\n",
              "      <td>USA</td>\n",
              "    </tr>\n",
              "    <tr>\n",
              "      <th>4599</th>\n",
              "      <td>2014-07-10 00:00:00</td>\n",
              "      <td>2.206000e+05</td>\n",
              "      <td>3.0</td>\n",
              "      <td>2.50</td>\n",
              "      <td>1490</td>\n",
              "      <td>8102</td>\n",
              "      <td>2.0</td>\n",
              "      <td>0</td>\n",
              "      <td>0</td>\n",
              "      <td>4</td>\n",
              "      <td>1490</td>\n",
              "      <td>0</td>\n",
              "      <td>1990</td>\n",
              "      <td>0</td>\n",
              "      <td>18717 SE 258th St</td>\n",
              "      <td>Covington</td>\n",
              "      <td>WA 98042</td>\n",
              "      <td>USA</td>\n",
              "    </tr>\n",
              "  </tbody>\n",
              "</table>\n",
              "<p>4600 rows × 18 columns</p>\n",
              "</div>"
            ],
            "text/plain": [
              "                     date         price  bedrooms  ...       city  statezip  country\n",
              "0     2014-05-02 00:00:00  3.130000e+05       3.0  ...  Shoreline  WA 98133      USA\n",
              "1     2014-05-02 00:00:00  2.384000e+06       5.0  ...    Seattle  WA 98119      USA\n",
              "2     2014-05-02 00:00:00  3.420000e+05       3.0  ...       Kent  WA 98042      USA\n",
              "3     2014-05-02 00:00:00  4.200000e+05       3.0  ...   Bellevue  WA 98008      USA\n",
              "4     2014-05-02 00:00:00  5.500000e+05       4.0  ...    Redmond  WA 98052      USA\n",
              "...                   ...           ...       ...  ...        ...       ...      ...\n",
              "4595  2014-07-09 00:00:00  3.081667e+05       3.0  ...    Seattle  WA 98133      USA\n",
              "4596  2014-07-09 00:00:00  5.343333e+05       3.0  ...   Bellevue  WA 98007      USA\n",
              "4597  2014-07-09 00:00:00  4.169042e+05       3.0  ...     Renton  WA 98059      USA\n",
              "4598  2014-07-10 00:00:00  2.034000e+05       4.0  ...    Seattle  WA 98178      USA\n",
              "4599  2014-07-10 00:00:00  2.206000e+05       3.0  ...  Covington  WA 98042      USA\n",
              "\n",
              "[4600 rows x 18 columns]"
            ]
          },
          "metadata": {
            "tags": []
          },
          "execution_count": 92
        }
      ]
    },
    {
      "cell_type": "code",
      "metadata": {
        "id": "Hn49Rg8igThV",
        "colab": {
          "base_uri": "https://localhost:8080/"
        },
        "outputId": "950bb2c7-e16e-4838-f7f8-10a6b4f61602"
      },
      "source": [
        "df.dtypes"
      ],
      "execution_count": null,
      "outputs": [
        {
          "output_type": "execute_result",
          "data": {
            "text/plain": [
              "date              object\n",
              "price            float64\n",
              "bedrooms         float64\n",
              "bathrooms        float64\n",
              "sqft_living        int64\n",
              "sqft_lot           int64\n",
              "floors           float64\n",
              "waterfront         int64\n",
              "view               int64\n",
              "condition          int64\n",
              "sqft_above         int64\n",
              "sqft_basement      int64\n",
              "yr_built           int64\n",
              "yr_renovated       int64\n",
              "street            object\n",
              "city              object\n",
              "statezip          object\n",
              "country           object\n",
              "dtype: object"
            ]
          },
          "metadata": {
            "tags": []
          },
          "execution_count": 93
        }
      ]
    },
    {
      "cell_type": "code",
      "metadata": {
        "id": "7BRbFuRJgWVs",
        "colab": {
          "base_uri": "https://localhost:8080/"
        },
        "outputId": "23e4f7d5-2b90-42f2-8eb9-b46196a4b255"
      },
      "source": [
        "df.describe()"
      ],
      "execution_count": null,
      "outputs": [
        {
          "output_type": "execute_result",
          "data": {
            "text/html": [
              "<div>\n",
              "<style scoped>\n",
              "    .dataframe tbody tr th:only-of-type {\n",
              "        vertical-align: middle;\n",
              "    }\n",
              "\n",
              "    .dataframe tbody tr th {\n",
              "        vertical-align: top;\n",
              "    }\n",
              "\n",
              "    .dataframe thead th {\n",
              "        text-align: right;\n",
              "    }\n",
              "</style>\n",
              "<table border=\"1\" class=\"dataframe\">\n",
              "  <thead>\n",
              "    <tr style=\"text-align: right;\">\n",
              "      <th></th>\n",
              "      <th>price</th>\n",
              "      <th>bedrooms</th>\n",
              "      <th>bathrooms</th>\n",
              "      <th>sqft_living</th>\n",
              "      <th>sqft_lot</th>\n",
              "      <th>floors</th>\n",
              "      <th>waterfront</th>\n",
              "      <th>view</th>\n",
              "      <th>condition</th>\n",
              "      <th>sqft_above</th>\n",
              "      <th>sqft_basement</th>\n",
              "      <th>yr_built</th>\n",
              "      <th>yr_renovated</th>\n",
              "    </tr>\n",
              "  </thead>\n",
              "  <tbody>\n",
              "    <tr>\n",
              "      <th>count</th>\n",
              "      <td>4.600000e+03</td>\n",
              "      <td>4600.000000</td>\n",
              "      <td>4600.000000</td>\n",
              "      <td>4600.000000</td>\n",
              "      <td>4.600000e+03</td>\n",
              "      <td>4600.000000</td>\n",
              "      <td>4600.000000</td>\n",
              "      <td>4600.000000</td>\n",
              "      <td>4600.000000</td>\n",
              "      <td>4600.000000</td>\n",
              "      <td>4600.000000</td>\n",
              "      <td>4600.000000</td>\n",
              "      <td>4600.000000</td>\n",
              "    </tr>\n",
              "    <tr>\n",
              "      <th>mean</th>\n",
              "      <td>5.519630e+05</td>\n",
              "      <td>3.400870</td>\n",
              "      <td>2.160815</td>\n",
              "      <td>2139.346957</td>\n",
              "      <td>1.485252e+04</td>\n",
              "      <td>1.512065</td>\n",
              "      <td>0.007174</td>\n",
              "      <td>0.240652</td>\n",
              "      <td>3.451739</td>\n",
              "      <td>1827.265435</td>\n",
              "      <td>312.081522</td>\n",
              "      <td>1970.786304</td>\n",
              "      <td>808.608261</td>\n",
              "    </tr>\n",
              "    <tr>\n",
              "      <th>std</th>\n",
              "      <td>5.638347e+05</td>\n",
              "      <td>0.908848</td>\n",
              "      <td>0.783781</td>\n",
              "      <td>963.206916</td>\n",
              "      <td>3.588444e+04</td>\n",
              "      <td>0.538288</td>\n",
              "      <td>0.084404</td>\n",
              "      <td>0.778405</td>\n",
              "      <td>0.677230</td>\n",
              "      <td>862.168977</td>\n",
              "      <td>464.137228</td>\n",
              "      <td>29.731848</td>\n",
              "      <td>979.414536</td>\n",
              "    </tr>\n",
              "    <tr>\n",
              "      <th>min</th>\n",
              "      <td>0.000000e+00</td>\n",
              "      <td>0.000000</td>\n",
              "      <td>0.000000</td>\n",
              "      <td>370.000000</td>\n",
              "      <td>6.380000e+02</td>\n",
              "      <td>1.000000</td>\n",
              "      <td>0.000000</td>\n",
              "      <td>0.000000</td>\n",
              "      <td>1.000000</td>\n",
              "      <td>370.000000</td>\n",
              "      <td>0.000000</td>\n",
              "      <td>1900.000000</td>\n",
              "      <td>0.000000</td>\n",
              "    </tr>\n",
              "    <tr>\n",
              "      <th>25%</th>\n",
              "      <td>3.228750e+05</td>\n",
              "      <td>3.000000</td>\n",
              "      <td>1.750000</td>\n",
              "      <td>1460.000000</td>\n",
              "      <td>5.000750e+03</td>\n",
              "      <td>1.000000</td>\n",
              "      <td>0.000000</td>\n",
              "      <td>0.000000</td>\n",
              "      <td>3.000000</td>\n",
              "      <td>1190.000000</td>\n",
              "      <td>0.000000</td>\n",
              "      <td>1951.000000</td>\n",
              "      <td>0.000000</td>\n",
              "    </tr>\n",
              "    <tr>\n",
              "      <th>50%</th>\n",
              "      <td>4.609435e+05</td>\n",
              "      <td>3.000000</td>\n",
              "      <td>2.250000</td>\n",
              "      <td>1980.000000</td>\n",
              "      <td>7.683000e+03</td>\n",
              "      <td>1.500000</td>\n",
              "      <td>0.000000</td>\n",
              "      <td>0.000000</td>\n",
              "      <td>3.000000</td>\n",
              "      <td>1590.000000</td>\n",
              "      <td>0.000000</td>\n",
              "      <td>1976.000000</td>\n",
              "      <td>0.000000</td>\n",
              "    </tr>\n",
              "    <tr>\n",
              "      <th>75%</th>\n",
              "      <td>6.549625e+05</td>\n",
              "      <td>4.000000</td>\n",
              "      <td>2.500000</td>\n",
              "      <td>2620.000000</td>\n",
              "      <td>1.100125e+04</td>\n",
              "      <td>2.000000</td>\n",
              "      <td>0.000000</td>\n",
              "      <td>0.000000</td>\n",
              "      <td>4.000000</td>\n",
              "      <td>2300.000000</td>\n",
              "      <td>610.000000</td>\n",
              "      <td>1997.000000</td>\n",
              "      <td>1999.000000</td>\n",
              "    </tr>\n",
              "    <tr>\n",
              "      <th>max</th>\n",
              "      <td>2.659000e+07</td>\n",
              "      <td>9.000000</td>\n",
              "      <td>8.000000</td>\n",
              "      <td>13540.000000</td>\n",
              "      <td>1.074218e+06</td>\n",
              "      <td>3.500000</td>\n",
              "      <td>1.000000</td>\n",
              "      <td>4.000000</td>\n",
              "      <td>5.000000</td>\n",
              "      <td>9410.000000</td>\n",
              "      <td>4820.000000</td>\n",
              "      <td>2014.000000</td>\n",
              "      <td>2014.000000</td>\n",
              "    </tr>\n",
              "  </tbody>\n",
              "</table>\n",
              "</div>"
            ],
            "text/plain": [
              "              price     bedrooms  ...     yr_built  yr_renovated\n",
              "count  4.600000e+03  4600.000000  ...  4600.000000   4600.000000\n",
              "mean   5.519630e+05     3.400870  ...  1970.786304    808.608261\n",
              "std    5.638347e+05     0.908848  ...    29.731848    979.414536\n",
              "min    0.000000e+00     0.000000  ...  1900.000000      0.000000\n",
              "25%    3.228750e+05     3.000000  ...  1951.000000      0.000000\n",
              "50%    4.609435e+05     3.000000  ...  1976.000000      0.000000\n",
              "75%    6.549625e+05     4.000000  ...  1997.000000   1999.000000\n",
              "max    2.659000e+07     9.000000  ...  2014.000000   2014.000000\n",
              "\n",
              "[8 rows x 13 columns]"
            ]
          },
          "metadata": {
            "tags": []
          },
          "execution_count": 94
        }
      ]
    },
    {
      "cell_type": "markdown",
      "metadata": {
        "id": "M5Os9jJR5MGr"
      },
      "source": [
        "# **TOPIK: DATA PREPROCESSING FOR FORECASTING (B1)**"
      ]
    },
    {
      "cell_type": "markdown",
      "metadata": {
        "id": "vFIWf1Nw5Tyt"
      },
      "source": [
        "1. Berdasarkan data A1 yang sudah anda baca, jelaskan tujuan dari forecasting apa yang ingin dilakukan?\n",
        "\n",
        "2. jelaskan bagaimana cara mengatasi missing value, tuliskan dalam Python\n",
        "\n",
        "3. ubahlah format yang sesuai dengan tugas forecasting (misalkan nilai harus bernilai integer, dan kalimat harus bernilai string, dll), tuliskan dalam Python\n",
        "\n",
        "4. apakah perlu ada normalisasi pada dataset? jika iya, metode normalisasi apa yang anda gunakan? jelaskan pilihan anda, tuliskan dalam Python\n",
        "\n",
        "5. pisahkan dataset menjadi data latih dan data uji menggunakan Python sklearn train test split yang sebelumnya perlu dipisahkan terlebih dahulu variable X merupakan independent variable dan variable y merupakan dependent variable, tuliskan dalam Python\n"
      ]
    },
    {
      "cell_type": "code",
      "metadata": {
        "id": "kSF2O_jKhAef"
      },
      "source": [
        "#Linear Regression"
      ],
      "execution_count": null,
      "outputs": []
    },
    {
      "cell_type": "code",
      "metadata": {
        "id": "4rho1BXSgfQi",
        "colab": {
          "base_uri": "https://localhost:8080/"
        },
        "outputId": "3a846007-79bb-48e2-88ea-51d9daa3f28f"
      },
      "source": [
        "df.isna().sum()"
      ],
      "execution_count": null,
      "outputs": [
        {
          "output_type": "execute_result",
          "data": {
            "text/plain": [
              "date             0\n",
              "price            0\n",
              "bedrooms         0\n",
              "bathrooms        0\n",
              "sqft_living      0\n",
              "sqft_lot         0\n",
              "floors           0\n",
              "waterfront       0\n",
              "view             0\n",
              "condition        0\n",
              "sqft_above       0\n",
              "sqft_basement    0\n",
              "yr_built         0\n",
              "yr_renovated     0\n",
              "street           0\n",
              "city             0\n",
              "statezip         0\n",
              "country          0\n",
              "dtype: int64"
            ]
          },
          "metadata": {
            "tags": []
          },
          "execution_count": 96
        }
      ]
    },
    {
      "cell_type": "code",
      "metadata": {
        "id": "cZaTszHAgnDI",
        "colab": {
          "base_uri": "https://localhost:8080/"
        },
        "outputId": "6c18c2e4-2bb3-425b-f975-e7972d4f7f0a"
      },
      "source": [
        "df.columns"
      ],
      "execution_count": null,
      "outputs": [
        {
          "output_type": "execute_result",
          "data": {
            "text/plain": [
              "Index(['date', 'price', 'bedrooms', 'bathrooms', 'sqft_living', 'sqft_lot',\n",
              "       'floors', 'waterfront', 'view', 'condition', 'sqft_above',\n",
              "       'sqft_basement', 'yr_built', 'yr_renovated', 'street', 'city',\n",
              "       'statezip', 'country'],\n",
              "      dtype='object')"
            ]
          },
          "metadata": {
            "tags": []
          },
          "execution_count": 97
        }
      ]
    },
    {
      "cell_type": "code",
      "metadata": {
        "id": "3YTW5VwZgrig"
      },
      "source": [
        "df.drop(['date'],axis=1,inplace=True)"
      ],
      "execution_count": null,
      "outputs": []
    },
    {
      "cell_type": "code",
      "metadata": {
        "id": "86-2EQqahSPJ",
        "colab": {
          "base_uri": "https://localhost:8080/",
          "height": 378
        },
        "outputId": "656add75-b34e-45ce-f844-107a04c96349"
      },
      "source": [
        "df.head()"
      ],
      "execution_count": null,
      "outputs": [
        {
          "output_type": "execute_result",
          "data": {
            "text/html": [
              "<div>\n",
              "<style scoped>\n",
              "    .dataframe tbody tr th:only-of-type {\n",
              "        vertical-align: middle;\n",
              "    }\n",
              "\n",
              "    .dataframe tbody tr th {\n",
              "        vertical-align: top;\n",
              "    }\n",
              "\n",
              "    .dataframe thead th {\n",
              "        text-align: right;\n",
              "    }\n",
              "</style>\n",
              "<table border=\"1\" class=\"dataframe\">\n",
              "  <thead>\n",
              "    <tr style=\"text-align: right;\">\n",
              "      <th></th>\n",
              "      <th>price</th>\n",
              "      <th>bedrooms</th>\n",
              "      <th>bathrooms</th>\n",
              "      <th>sqft_living</th>\n",
              "      <th>sqft_lot</th>\n",
              "      <th>floors</th>\n",
              "      <th>waterfront</th>\n",
              "      <th>view</th>\n",
              "      <th>condition</th>\n",
              "      <th>sqft_above</th>\n",
              "      <th>sqft_basement</th>\n",
              "      <th>yr_built</th>\n",
              "      <th>yr_renovated</th>\n",
              "      <th>street</th>\n",
              "      <th>city</th>\n",
              "      <th>statezip</th>\n",
              "      <th>country</th>\n",
              "    </tr>\n",
              "  </thead>\n",
              "  <tbody>\n",
              "    <tr>\n",
              "      <th>0</th>\n",
              "      <td>313000.0</td>\n",
              "      <td>3.0</td>\n",
              "      <td>1.50</td>\n",
              "      <td>1340</td>\n",
              "      <td>7912</td>\n",
              "      <td>1.5</td>\n",
              "      <td>0</td>\n",
              "      <td>0</td>\n",
              "      <td>3</td>\n",
              "      <td>1340</td>\n",
              "      <td>0</td>\n",
              "      <td>1955</td>\n",
              "      <td>2005</td>\n",
              "      <td>18810 Densmore Ave N</td>\n",
              "      <td>Shoreline</td>\n",
              "      <td>WA 98133</td>\n",
              "      <td>USA</td>\n",
              "    </tr>\n",
              "    <tr>\n",
              "      <th>1</th>\n",
              "      <td>2384000.0</td>\n",
              "      <td>5.0</td>\n",
              "      <td>2.50</td>\n",
              "      <td>3650</td>\n",
              "      <td>9050</td>\n",
              "      <td>2.0</td>\n",
              "      <td>0</td>\n",
              "      <td>4</td>\n",
              "      <td>5</td>\n",
              "      <td>3370</td>\n",
              "      <td>280</td>\n",
              "      <td>1921</td>\n",
              "      <td>0</td>\n",
              "      <td>709 W Blaine St</td>\n",
              "      <td>Seattle</td>\n",
              "      <td>WA 98119</td>\n",
              "      <td>USA</td>\n",
              "    </tr>\n",
              "    <tr>\n",
              "      <th>2</th>\n",
              "      <td>342000.0</td>\n",
              "      <td>3.0</td>\n",
              "      <td>2.00</td>\n",
              "      <td>1930</td>\n",
              "      <td>11947</td>\n",
              "      <td>1.0</td>\n",
              "      <td>0</td>\n",
              "      <td>0</td>\n",
              "      <td>4</td>\n",
              "      <td>1930</td>\n",
              "      <td>0</td>\n",
              "      <td>1966</td>\n",
              "      <td>0</td>\n",
              "      <td>26206-26214 143rd Ave SE</td>\n",
              "      <td>Kent</td>\n",
              "      <td>WA 98042</td>\n",
              "      <td>USA</td>\n",
              "    </tr>\n",
              "    <tr>\n",
              "      <th>3</th>\n",
              "      <td>420000.0</td>\n",
              "      <td>3.0</td>\n",
              "      <td>2.25</td>\n",
              "      <td>2000</td>\n",
              "      <td>8030</td>\n",
              "      <td>1.0</td>\n",
              "      <td>0</td>\n",
              "      <td>0</td>\n",
              "      <td>4</td>\n",
              "      <td>1000</td>\n",
              "      <td>1000</td>\n",
              "      <td>1963</td>\n",
              "      <td>0</td>\n",
              "      <td>857 170th Pl NE</td>\n",
              "      <td>Bellevue</td>\n",
              "      <td>WA 98008</td>\n",
              "      <td>USA</td>\n",
              "    </tr>\n",
              "    <tr>\n",
              "      <th>4</th>\n",
              "      <td>550000.0</td>\n",
              "      <td>4.0</td>\n",
              "      <td>2.50</td>\n",
              "      <td>1940</td>\n",
              "      <td>10500</td>\n",
              "      <td>1.0</td>\n",
              "      <td>0</td>\n",
              "      <td>0</td>\n",
              "      <td>4</td>\n",
              "      <td>1140</td>\n",
              "      <td>800</td>\n",
              "      <td>1976</td>\n",
              "      <td>1992</td>\n",
              "      <td>9105 170th Ave NE</td>\n",
              "      <td>Redmond</td>\n",
              "      <td>WA 98052</td>\n",
              "      <td>USA</td>\n",
              "    </tr>\n",
              "  </tbody>\n",
              "</table>\n",
              "</div>"
            ],
            "text/plain": [
              "       price  bedrooms  bathrooms  ...       city  statezip  country\n",
              "0   313000.0       3.0       1.50  ...  Shoreline  WA 98133      USA\n",
              "1  2384000.0       5.0       2.50  ...    Seattle  WA 98119      USA\n",
              "2   342000.0       3.0       2.00  ...       Kent  WA 98042      USA\n",
              "3   420000.0       3.0       2.25  ...   Bellevue  WA 98008      USA\n",
              "4   550000.0       4.0       2.50  ...    Redmond  WA 98052      USA\n",
              "\n",
              "[5 rows x 17 columns]"
            ]
          },
          "metadata": {
            "tags": []
          },
          "execution_count": 99
        }
      ]
    },
    {
      "cell_type": "code",
      "metadata": {
        "id": "_b029cIFhYmB",
        "colab": {
          "base_uri": "https://localhost:8080/"
        },
        "outputId": "a23f65af-5ed6-4b15-8c3c-84da26afb55b"
      },
      "source": [
        "df['country'].value_counts()"
      ],
      "execution_count": null,
      "outputs": [
        {
          "output_type": "execute_result",
          "data": {
            "text/plain": [
              "USA    4600\n",
              "Name: country, dtype: int64"
            ]
          },
          "metadata": {
            "tags": []
          },
          "execution_count": 100
        }
      ]
    },
    {
      "cell_type": "code",
      "metadata": {
        "id": "G1hNtup5hejZ",
        "colab": {
          "base_uri": "https://localhost:8080/"
        },
        "outputId": "fd32c0c6-77f7-4d73-dff5-3ca071724783"
      },
      "source": [
        "df.drop(['country'],axis=1,inplace=True)\n",
        "print(df.head())"
      ],
      "execution_count": null,
      "outputs": [
        {
          "output_type": "stream",
          "text": [
            "       price  bedrooms  ...       city  statezip\n",
            "0   313000.0       3.0  ...  Shoreline  WA 98133\n",
            "1  2384000.0       5.0  ...    Seattle  WA 98119\n",
            "2   342000.0       3.0  ...       Kent  WA 98042\n",
            "3   420000.0       3.0  ...   Bellevue  WA 98008\n",
            "4   550000.0       4.0  ...    Redmond  WA 98052\n",
            "\n",
            "[5 rows x 16 columns]\n"
          ],
          "name": "stdout"
        }
      ]
    },
    {
      "cell_type": "code",
      "metadata": {
        "id": "Ef4MgFN1iChs",
        "colab": {
          "base_uri": "https://localhost:8080/",
          "height": 202
        },
        "outputId": "b78d3563-2e85-4e02-e175-0271a272ffd2"
      },
      "source": [
        "df.drop(['street', 'city'], axis = 1, inplace = True)\n",
        "df.head()"
      ],
      "execution_count": null,
      "outputs": [
        {
          "output_type": "execute_result",
          "data": {
            "text/html": [
              "<div>\n",
              "<style scoped>\n",
              "    .dataframe tbody tr th:only-of-type {\n",
              "        vertical-align: middle;\n",
              "    }\n",
              "\n",
              "    .dataframe tbody tr th {\n",
              "        vertical-align: top;\n",
              "    }\n",
              "\n",
              "    .dataframe thead th {\n",
              "        text-align: right;\n",
              "    }\n",
              "</style>\n",
              "<table border=\"1\" class=\"dataframe\">\n",
              "  <thead>\n",
              "    <tr style=\"text-align: right;\">\n",
              "      <th></th>\n",
              "      <th>price</th>\n",
              "      <th>bedrooms</th>\n",
              "      <th>bathrooms</th>\n",
              "      <th>sqft_living</th>\n",
              "      <th>sqft_lot</th>\n",
              "      <th>floors</th>\n",
              "      <th>waterfront</th>\n",
              "      <th>view</th>\n",
              "      <th>condition</th>\n",
              "      <th>sqft_above</th>\n",
              "      <th>sqft_basement</th>\n",
              "      <th>yr_built</th>\n",
              "      <th>yr_renovated</th>\n",
              "      <th>statezip</th>\n",
              "    </tr>\n",
              "  </thead>\n",
              "  <tbody>\n",
              "    <tr>\n",
              "      <th>0</th>\n",
              "      <td>313000.0</td>\n",
              "      <td>3.0</td>\n",
              "      <td>1.50</td>\n",
              "      <td>1340</td>\n",
              "      <td>7912</td>\n",
              "      <td>1.5</td>\n",
              "      <td>0</td>\n",
              "      <td>0</td>\n",
              "      <td>3</td>\n",
              "      <td>1340</td>\n",
              "      <td>0</td>\n",
              "      <td>1955</td>\n",
              "      <td>2005</td>\n",
              "      <td>WA 98133</td>\n",
              "    </tr>\n",
              "    <tr>\n",
              "      <th>1</th>\n",
              "      <td>2384000.0</td>\n",
              "      <td>5.0</td>\n",
              "      <td>2.50</td>\n",
              "      <td>3650</td>\n",
              "      <td>9050</td>\n",
              "      <td>2.0</td>\n",
              "      <td>0</td>\n",
              "      <td>4</td>\n",
              "      <td>5</td>\n",
              "      <td>3370</td>\n",
              "      <td>280</td>\n",
              "      <td>1921</td>\n",
              "      <td>0</td>\n",
              "      <td>WA 98119</td>\n",
              "    </tr>\n",
              "    <tr>\n",
              "      <th>2</th>\n",
              "      <td>342000.0</td>\n",
              "      <td>3.0</td>\n",
              "      <td>2.00</td>\n",
              "      <td>1930</td>\n",
              "      <td>11947</td>\n",
              "      <td>1.0</td>\n",
              "      <td>0</td>\n",
              "      <td>0</td>\n",
              "      <td>4</td>\n",
              "      <td>1930</td>\n",
              "      <td>0</td>\n",
              "      <td>1966</td>\n",
              "      <td>0</td>\n",
              "      <td>WA 98042</td>\n",
              "    </tr>\n",
              "    <tr>\n",
              "      <th>3</th>\n",
              "      <td>420000.0</td>\n",
              "      <td>3.0</td>\n",
              "      <td>2.25</td>\n",
              "      <td>2000</td>\n",
              "      <td>8030</td>\n",
              "      <td>1.0</td>\n",
              "      <td>0</td>\n",
              "      <td>0</td>\n",
              "      <td>4</td>\n",
              "      <td>1000</td>\n",
              "      <td>1000</td>\n",
              "      <td>1963</td>\n",
              "      <td>0</td>\n",
              "      <td>WA 98008</td>\n",
              "    </tr>\n",
              "    <tr>\n",
              "      <th>4</th>\n",
              "      <td>550000.0</td>\n",
              "      <td>4.0</td>\n",
              "      <td>2.50</td>\n",
              "      <td>1940</td>\n",
              "      <td>10500</td>\n",
              "      <td>1.0</td>\n",
              "      <td>0</td>\n",
              "      <td>0</td>\n",
              "      <td>4</td>\n",
              "      <td>1140</td>\n",
              "      <td>800</td>\n",
              "      <td>1976</td>\n",
              "      <td>1992</td>\n",
              "      <td>WA 98052</td>\n",
              "    </tr>\n",
              "  </tbody>\n",
              "</table>\n",
              "</div>"
            ],
            "text/plain": [
              "       price  bedrooms  bathrooms  ...  yr_built  yr_renovated  statezip\n",
              "0   313000.0       3.0       1.50  ...      1955          2005  WA 98133\n",
              "1  2384000.0       5.0       2.50  ...      1921             0  WA 98119\n",
              "2   342000.0       3.0       2.00  ...      1966             0  WA 98042\n",
              "3   420000.0       3.0       2.25  ...      1963             0  WA 98008\n",
              "4   550000.0       4.0       2.50  ...      1976          1992  WA 98052\n",
              "\n",
              "[5 rows x 14 columns]"
            ]
          },
          "metadata": {
            "tags": []
          },
          "execution_count": 102
        }
      ]
    },
    {
      "cell_type": "code",
      "metadata": {
        "id": "Y4JE6NV-i8Bd",
        "colab": {
          "base_uri": "https://localhost:8080/",
          "height": 1000
        },
        "outputId": "45db071e-7764-41e5-a815-ccb066c46b01"
      },
      "source": [
        "df[df[\"price\"]==0].head(50)"
      ],
      "execution_count": null,
      "outputs": [
        {
          "output_type": "execute_result",
          "data": {
            "text/html": [
              "<div>\n",
              "<style scoped>\n",
              "    .dataframe tbody tr th:only-of-type {\n",
              "        vertical-align: middle;\n",
              "    }\n",
              "\n",
              "    .dataframe tbody tr th {\n",
              "        vertical-align: top;\n",
              "    }\n",
              "\n",
              "    .dataframe thead th {\n",
              "        text-align: right;\n",
              "    }\n",
              "</style>\n",
              "<table border=\"1\" class=\"dataframe\">\n",
              "  <thead>\n",
              "    <tr style=\"text-align: right;\">\n",
              "      <th></th>\n",
              "      <th>price</th>\n",
              "      <th>bedrooms</th>\n",
              "      <th>bathrooms</th>\n",
              "      <th>sqft_living</th>\n",
              "      <th>sqft_lot</th>\n",
              "      <th>floors</th>\n",
              "      <th>waterfront</th>\n",
              "      <th>view</th>\n",
              "      <th>condition</th>\n",
              "      <th>sqft_above</th>\n",
              "      <th>sqft_basement</th>\n",
              "      <th>yr_built</th>\n",
              "      <th>yr_renovated</th>\n",
              "      <th>statezip</th>\n",
              "    </tr>\n",
              "  </thead>\n",
              "  <tbody>\n",
              "    <tr>\n",
              "      <th>4354</th>\n",
              "      <td>0.0</td>\n",
              "      <td>3.0</td>\n",
              "      <td>1.75</td>\n",
              "      <td>1490</td>\n",
              "      <td>10125</td>\n",
              "      <td>1.0</td>\n",
              "      <td>0</td>\n",
              "      <td>0</td>\n",
              "      <td>4</td>\n",
              "      <td>1490</td>\n",
              "      <td>0</td>\n",
              "      <td>1962</td>\n",
              "      <td>0</td>\n",
              "      <td>WA 98001</td>\n",
              "    </tr>\n",
              "    <tr>\n",
              "      <th>4356</th>\n",
              "      <td>0.0</td>\n",
              "      <td>4.0</td>\n",
              "      <td>2.75</td>\n",
              "      <td>2600</td>\n",
              "      <td>5390</td>\n",
              "      <td>1.0</td>\n",
              "      <td>0</td>\n",
              "      <td>0</td>\n",
              "      <td>4</td>\n",
              "      <td>1300</td>\n",
              "      <td>1300</td>\n",
              "      <td>1960</td>\n",
              "      <td>2001</td>\n",
              "      <td>WA 98199</td>\n",
              "    </tr>\n",
              "    <tr>\n",
              "      <th>4357</th>\n",
              "      <td>0.0</td>\n",
              "      <td>6.0</td>\n",
              "      <td>2.75</td>\n",
              "      <td>3200</td>\n",
              "      <td>9200</td>\n",
              "      <td>1.0</td>\n",
              "      <td>0</td>\n",
              "      <td>2</td>\n",
              "      <td>4</td>\n",
              "      <td>1600</td>\n",
              "      <td>1600</td>\n",
              "      <td>1953</td>\n",
              "      <td>1983</td>\n",
              "      <td>WA 98146</td>\n",
              "    </tr>\n",
              "    <tr>\n",
              "      <th>4358</th>\n",
              "      <td>0.0</td>\n",
              "      <td>5.0</td>\n",
              "      <td>3.50</td>\n",
              "      <td>3480</td>\n",
              "      <td>36615</td>\n",
              "      <td>2.0</td>\n",
              "      <td>0</td>\n",
              "      <td>0</td>\n",
              "      <td>4</td>\n",
              "      <td>2490</td>\n",
              "      <td>990</td>\n",
              "      <td>1983</td>\n",
              "      <td>0</td>\n",
              "      <td>WA 98075</td>\n",
              "    </tr>\n",
              "    <tr>\n",
              "      <th>4361</th>\n",
              "      <td>0.0</td>\n",
              "      <td>5.0</td>\n",
              "      <td>1.50</td>\n",
              "      <td>1500</td>\n",
              "      <td>7112</td>\n",
              "      <td>1.0</td>\n",
              "      <td>0</td>\n",
              "      <td>0</td>\n",
              "      <td>5</td>\n",
              "      <td>760</td>\n",
              "      <td>740</td>\n",
              "      <td>1920</td>\n",
              "      <td>0</td>\n",
              "      <td>WA 98166</td>\n",
              "    </tr>\n",
              "    <tr>\n",
              "      <th>4362</th>\n",
              "      <td>0.0</td>\n",
              "      <td>4.0</td>\n",
              "      <td>4.00</td>\n",
              "      <td>3680</td>\n",
              "      <td>18804</td>\n",
              "      <td>2.0</td>\n",
              "      <td>0</td>\n",
              "      <td>0</td>\n",
              "      <td>3</td>\n",
              "      <td>3680</td>\n",
              "      <td>0</td>\n",
              "      <td>1990</td>\n",
              "      <td>2009</td>\n",
              "      <td>WA 98074</td>\n",
              "    </tr>\n",
              "    <tr>\n",
              "      <th>4374</th>\n",
              "      <td>0.0</td>\n",
              "      <td>2.0</td>\n",
              "      <td>2.50</td>\n",
              "      <td>2200</td>\n",
              "      <td>188200</td>\n",
              "      <td>1.0</td>\n",
              "      <td>0</td>\n",
              "      <td>3</td>\n",
              "      <td>3</td>\n",
              "      <td>2200</td>\n",
              "      <td>0</td>\n",
              "      <td>2007</td>\n",
              "      <td>0</td>\n",
              "      <td>WA 98022</td>\n",
              "    </tr>\n",
              "    <tr>\n",
              "      <th>4376</th>\n",
              "      <td>0.0</td>\n",
              "      <td>4.0</td>\n",
              "      <td>2.25</td>\n",
              "      <td>2170</td>\n",
              "      <td>10500</td>\n",
              "      <td>1.0</td>\n",
              "      <td>0</td>\n",
              "      <td>2</td>\n",
              "      <td>4</td>\n",
              "      <td>1270</td>\n",
              "      <td>900</td>\n",
              "      <td>1960</td>\n",
              "      <td>2001</td>\n",
              "      <td>WA 98166</td>\n",
              "    </tr>\n",
              "    <tr>\n",
              "      <th>4382</th>\n",
              "      <td>0.0</td>\n",
              "      <td>5.0</td>\n",
              "      <td>4.50</td>\n",
              "      <td>4630</td>\n",
              "      <td>6324</td>\n",
              "      <td>2.0</td>\n",
              "      <td>0</td>\n",
              "      <td>0</td>\n",
              "      <td>3</td>\n",
              "      <td>3210</td>\n",
              "      <td>1420</td>\n",
              "      <td>2006</td>\n",
              "      <td>0</td>\n",
              "      <td>WA 98065</td>\n",
              "    </tr>\n",
              "    <tr>\n",
              "      <th>4383</th>\n",
              "      <td>0.0</td>\n",
              "      <td>5.0</td>\n",
              "      <td>4.00</td>\n",
              "      <td>4430</td>\n",
              "      <td>9000</td>\n",
              "      <td>2.0</td>\n",
              "      <td>0</td>\n",
              "      <td>0</td>\n",
              "      <td>3</td>\n",
              "      <td>4430</td>\n",
              "      <td>0</td>\n",
              "      <td>2013</td>\n",
              "      <td>1923</td>\n",
              "      <td>WA 98004</td>\n",
              "    </tr>\n",
              "    <tr>\n",
              "      <th>4385</th>\n",
              "      <td>0.0</td>\n",
              "      <td>4.0</td>\n",
              "      <td>4.50</td>\n",
              "      <td>5030</td>\n",
              "      <td>11023</td>\n",
              "      <td>2.0</td>\n",
              "      <td>0</td>\n",
              "      <td>2</td>\n",
              "      <td>3</td>\n",
              "      <td>3250</td>\n",
              "      <td>1780</td>\n",
              "      <td>2008</td>\n",
              "      <td>0</td>\n",
              "      <td>WA 98040</td>\n",
              "    </tr>\n",
              "    <tr>\n",
              "      <th>4386</th>\n",
              "      <td>0.0</td>\n",
              "      <td>4.0</td>\n",
              "      <td>1.50</td>\n",
              "      <td>2180</td>\n",
              "      <td>22870</td>\n",
              "      <td>1.0</td>\n",
              "      <td>0</td>\n",
              "      <td>0</td>\n",
              "      <td>4</td>\n",
              "      <td>1280</td>\n",
              "      <td>900</td>\n",
              "      <td>1954</td>\n",
              "      <td>1975</td>\n",
              "      <td>WA 98042</td>\n",
              "    </tr>\n",
              "    <tr>\n",
              "      <th>4389</th>\n",
              "      <td>0.0</td>\n",
              "      <td>4.0</td>\n",
              "      <td>3.50</td>\n",
              "      <td>4210</td>\n",
              "      <td>10308</td>\n",
              "      <td>2.0</td>\n",
              "      <td>0</td>\n",
              "      <td>0</td>\n",
              "      <td>3</td>\n",
              "      <td>4210</td>\n",
              "      <td>0</td>\n",
              "      <td>2006</td>\n",
              "      <td>0</td>\n",
              "      <td>WA 98008</td>\n",
              "    </tr>\n",
              "    <tr>\n",
              "      <th>4394</th>\n",
              "      <td>0.0</td>\n",
              "      <td>5.0</td>\n",
              "      <td>3.25</td>\n",
              "      <td>3690</td>\n",
              "      <td>12353</td>\n",
              "      <td>2.0</td>\n",
              "      <td>0</td>\n",
              "      <td>0</td>\n",
              "      <td>5</td>\n",
              "      <td>3690</td>\n",
              "      <td>0</td>\n",
              "      <td>1977</td>\n",
              "      <td>0</td>\n",
              "      <td>WA 98155</td>\n",
              "    </tr>\n",
              "    <tr>\n",
              "      <th>4405</th>\n",
              "      <td>0.0</td>\n",
              "      <td>4.0</td>\n",
              "      <td>3.75</td>\n",
              "      <td>3300</td>\n",
              "      <td>4545</td>\n",
              "      <td>1.5</td>\n",
              "      <td>0</td>\n",
              "      <td>4</td>\n",
              "      <td>3</td>\n",
              "      <td>2600</td>\n",
              "      <td>700</td>\n",
              "      <td>1926</td>\n",
              "      <td>1999</td>\n",
              "      <td>WA 98105</td>\n",
              "    </tr>\n",
              "    <tr>\n",
              "      <th>4408</th>\n",
              "      <td>0.0</td>\n",
              "      <td>5.0</td>\n",
              "      <td>2.25</td>\n",
              "      <td>2880</td>\n",
              "      <td>11965</td>\n",
              "      <td>2.0</td>\n",
              "      <td>0</td>\n",
              "      <td>0</td>\n",
              "      <td>4</td>\n",
              "      <td>2880</td>\n",
              "      <td>0</td>\n",
              "      <td>1990</td>\n",
              "      <td>0</td>\n",
              "      <td>WA 98042</td>\n",
              "    </tr>\n",
              "    <tr>\n",
              "      <th>4411</th>\n",
              "      <td>0.0</td>\n",
              "      <td>5.0</td>\n",
              "      <td>2.25</td>\n",
              "      <td>2000</td>\n",
              "      <td>7900</td>\n",
              "      <td>1.0</td>\n",
              "      <td>0</td>\n",
              "      <td>0</td>\n",
              "      <td>4</td>\n",
              "      <td>1300</td>\n",
              "      <td>700</td>\n",
              "      <td>1986</td>\n",
              "      <td>0</td>\n",
              "      <td>WA 98188</td>\n",
              "    </tr>\n",
              "    <tr>\n",
              "      <th>4412</th>\n",
              "      <td>0.0</td>\n",
              "      <td>3.0</td>\n",
              "      <td>3.00</td>\n",
              "      <td>1860</td>\n",
              "      <td>7440</td>\n",
              "      <td>1.0</td>\n",
              "      <td>0</td>\n",
              "      <td>0</td>\n",
              "      <td>5</td>\n",
              "      <td>1040</td>\n",
              "      <td>820</td>\n",
              "      <td>1954</td>\n",
              "      <td>0</td>\n",
              "      <td>WA 98178</td>\n",
              "    </tr>\n",
              "    <tr>\n",
              "      <th>4413</th>\n",
              "      <td>0.0</td>\n",
              "      <td>4.0</td>\n",
              "      <td>3.00</td>\n",
              "      <td>1990</td>\n",
              "      <td>6180</td>\n",
              "      <td>2.0</td>\n",
              "      <td>0</td>\n",
              "      <td>0</td>\n",
              "      <td>3</td>\n",
              "      <td>1990</td>\n",
              "      <td>0</td>\n",
              "      <td>1990</td>\n",
              "      <td>2009</td>\n",
              "      <td>WA 98023</td>\n",
              "    </tr>\n",
              "    <tr>\n",
              "      <th>4420</th>\n",
              "      <td>0.0</td>\n",
              "      <td>4.0</td>\n",
              "      <td>1.00</td>\n",
              "      <td>1360</td>\n",
              "      <td>13372</td>\n",
              "      <td>1.0</td>\n",
              "      <td>0</td>\n",
              "      <td>0</td>\n",
              "      <td>3</td>\n",
              "      <td>1360</td>\n",
              "      <td>0</td>\n",
              "      <td>1955</td>\n",
              "      <td>2005</td>\n",
              "      <td>WA 98028</td>\n",
              "    </tr>\n",
              "    <tr>\n",
              "      <th>4442</th>\n",
              "      <td>0.0</td>\n",
              "      <td>1.0</td>\n",
              "      <td>1.00</td>\n",
              "      <td>720</td>\n",
              "      <td>6000</td>\n",
              "      <td>1.0</td>\n",
              "      <td>0</td>\n",
              "      <td>0</td>\n",
              "      <td>3</td>\n",
              "      <td>720</td>\n",
              "      <td>0</td>\n",
              "      <td>1940</td>\n",
              "      <td>1996</td>\n",
              "      <td>WA 98108</td>\n",
              "    </tr>\n",
              "    <tr>\n",
              "      <th>4448</th>\n",
              "      <td>0.0</td>\n",
              "      <td>5.0</td>\n",
              "      <td>2.75</td>\n",
              "      <td>2740</td>\n",
              "      <td>5616</td>\n",
              "      <td>1.5</td>\n",
              "      <td>0</td>\n",
              "      <td>0</td>\n",
              "      <td>5</td>\n",
              "      <td>1670</td>\n",
              "      <td>1070</td>\n",
              "      <td>1925</td>\n",
              "      <td>0</td>\n",
              "      <td>WA 98115</td>\n",
              "    </tr>\n",
              "    <tr>\n",
              "      <th>4453</th>\n",
              "      <td>0.0</td>\n",
              "      <td>3.0</td>\n",
              "      <td>1.00</td>\n",
              "      <td>1300</td>\n",
              "      <td>6710</td>\n",
              "      <td>1.0</td>\n",
              "      <td>0</td>\n",
              "      <td>0</td>\n",
              "      <td>4</td>\n",
              "      <td>1300</td>\n",
              "      <td>0</td>\n",
              "      <td>1952</td>\n",
              "      <td>0</td>\n",
              "      <td>WA 98040</td>\n",
              "    </tr>\n",
              "    <tr>\n",
              "      <th>4454</th>\n",
              "      <td>0.0</td>\n",
              "      <td>5.0</td>\n",
              "      <td>2.50</td>\n",
              "      <td>2090</td>\n",
              "      <td>4698</td>\n",
              "      <td>2.0</td>\n",
              "      <td>0</td>\n",
              "      <td>0</td>\n",
              "      <td>3</td>\n",
              "      <td>2090</td>\n",
              "      <td>0</td>\n",
              "      <td>1998</td>\n",
              "      <td>2006</td>\n",
              "      <td>WA 98038</td>\n",
              "    </tr>\n",
              "    <tr>\n",
              "      <th>4472</th>\n",
              "      <td>0.0</td>\n",
              "      <td>4.0</td>\n",
              "      <td>3.75</td>\n",
              "      <td>4060</td>\n",
              "      <td>19290</td>\n",
              "      <td>2.0</td>\n",
              "      <td>0</td>\n",
              "      <td>0</td>\n",
              "      <td>3</td>\n",
              "      <td>4060</td>\n",
              "      <td>0</td>\n",
              "      <td>2002</td>\n",
              "      <td>0</td>\n",
              "      <td>WA 98074</td>\n",
              "    </tr>\n",
              "    <tr>\n",
              "      <th>4478</th>\n",
              "      <td>0.0</td>\n",
              "      <td>5.0</td>\n",
              "      <td>2.75</td>\n",
              "      <td>2910</td>\n",
              "      <td>53898</td>\n",
              "      <td>1.0</td>\n",
              "      <td>0</td>\n",
              "      <td>0</td>\n",
              "      <td>5</td>\n",
              "      <td>1510</td>\n",
              "      <td>1400</td>\n",
              "      <td>1979</td>\n",
              "      <td>0</td>\n",
              "      <td>WA 98077</td>\n",
              "    </tr>\n",
              "    <tr>\n",
              "      <th>4479</th>\n",
              "      <td>0.0</td>\n",
              "      <td>5.0</td>\n",
              "      <td>2.00</td>\n",
              "      <td>1910</td>\n",
              "      <td>7200</td>\n",
              "      <td>1.0</td>\n",
              "      <td>0</td>\n",
              "      <td>0</td>\n",
              "      <td>4</td>\n",
              "      <td>1110</td>\n",
              "      <td>800</td>\n",
              "      <td>1951</td>\n",
              "      <td>1999</td>\n",
              "      <td>WA 98178</td>\n",
              "    </tr>\n",
              "    <tr>\n",
              "      <th>4480</th>\n",
              "      <td>0.0</td>\n",
              "      <td>3.0</td>\n",
              "      <td>2.50</td>\n",
              "      <td>2880</td>\n",
              "      <td>13500</td>\n",
              "      <td>1.0</td>\n",
              "      <td>0</td>\n",
              "      <td>4</td>\n",
              "      <td>5</td>\n",
              "      <td>1520</td>\n",
              "      <td>1360</td>\n",
              "      <td>1950</td>\n",
              "      <td>0</td>\n",
              "      <td>WA 98004</td>\n",
              "    </tr>\n",
              "    <tr>\n",
              "      <th>4481</th>\n",
              "      <td>0.0</td>\n",
              "      <td>5.0</td>\n",
              "      <td>2.75</td>\n",
              "      <td>3240</td>\n",
              "      <td>6863</td>\n",
              "      <td>2.0</td>\n",
              "      <td>0</td>\n",
              "      <td>0</td>\n",
              "      <td>3</td>\n",
              "      <td>3240</td>\n",
              "      <td>0</td>\n",
              "      <td>2013</td>\n",
              "      <td>1923</td>\n",
              "      <td>WA 98056</td>\n",
              "    </tr>\n",
              "    <tr>\n",
              "      <th>4487</th>\n",
              "      <td>0.0</td>\n",
              "      <td>4.0</td>\n",
              "      <td>1.00</td>\n",
              "      <td>2080</td>\n",
              "      <td>3500</td>\n",
              "      <td>1.5</td>\n",
              "      <td>0</td>\n",
              "      <td>0</td>\n",
              "      <td>5</td>\n",
              "      <td>1260</td>\n",
              "      <td>820</td>\n",
              "      <td>1926</td>\n",
              "      <td>0</td>\n",
              "      <td>WA 98136</td>\n",
              "    </tr>\n",
              "    <tr>\n",
              "      <th>4499</th>\n",
              "      <td>0.0</td>\n",
              "      <td>5.0</td>\n",
              "      <td>3.75</td>\n",
              "      <td>3870</td>\n",
              "      <td>8225</td>\n",
              "      <td>2.0</td>\n",
              "      <td>0</td>\n",
              "      <td>0</td>\n",
              "      <td>3</td>\n",
              "      <td>3870</td>\n",
              "      <td>0</td>\n",
              "      <td>1998</td>\n",
              "      <td>2006</td>\n",
              "      <td>WA 98074</td>\n",
              "    </tr>\n",
              "    <tr>\n",
              "      <th>4507</th>\n",
              "      <td>0.0</td>\n",
              "      <td>4.0</td>\n",
              "      <td>1.50</td>\n",
              "      <td>2310</td>\n",
              "      <td>68824</td>\n",
              "      <td>2.0</td>\n",
              "      <td>0</td>\n",
              "      <td>0</td>\n",
              "      <td>4</td>\n",
              "      <td>2310</td>\n",
              "      <td>0</td>\n",
              "      <td>1968</td>\n",
              "      <td>0</td>\n",
              "      <td>WA 98010</td>\n",
              "    </tr>\n",
              "    <tr>\n",
              "      <th>4509</th>\n",
              "      <td>0.0</td>\n",
              "      <td>6.0</td>\n",
              "      <td>3.00</td>\n",
              "      <td>3020</td>\n",
              "      <td>13783</td>\n",
              "      <td>2.0</td>\n",
              "      <td>0</td>\n",
              "      <td>0</td>\n",
              "      <td>3</td>\n",
              "      <td>3020</td>\n",
              "      <td>0</td>\n",
              "      <td>1952</td>\n",
              "      <td>2002</td>\n",
              "      <td>WA 98040</td>\n",
              "    </tr>\n",
              "    <tr>\n",
              "      <th>4520</th>\n",
              "      <td>0.0</td>\n",
              "      <td>4.0</td>\n",
              "      <td>2.50</td>\n",
              "      <td>1960</td>\n",
              "      <td>11600</td>\n",
              "      <td>1.0</td>\n",
              "      <td>0</td>\n",
              "      <td>0</td>\n",
              "      <td>5</td>\n",
              "      <td>980</td>\n",
              "      <td>980</td>\n",
              "      <td>1931</td>\n",
              "      <td>0</td>\n",
              "      <td>WA 98002</td>\n",
              "    </tr>\n",
              "    <tr>\n",
              "      <th>4521</th>\n",
              "      <td>0.0</td>\n",
              "      <td>4.0</td>\n",
              "      <td>1.00</td>\n",
              "      <td>1810</td>\n",
              "      <td>7500</td>\n",
              "      <td>1.0</td>\n",
              "      <td>0</td>\n",
              "      <td>0</td>\n",
              "      <td>2</td>\n",
              "      <td>1410</td>\n",
              "      <td>400</td>\n",
              "      <td>1959</td>\n",
              "      <td>0</td>\n",
              "      <td>WA 98168</td>\n",
              "    </tr>\n",
              "    <tr>\n",
              "      <th>4522</th>\n",
              "      <td>0.0</td>\n",
              "      <td>2.0</td>\n",
              "      <td>2.25</td>\n",
              "      <td>1490</td>\n",
              "      <td>6770</td>\n",
              "      <td>1.5</td>\n",
              "      <td>0</td>\n",
              "      <td>0</td>\n",
              "      <td>3</td>\n",
              "      <td>1490</td>\n",
              "      <td>0</td>\n",
              "      <td>1926</td>\n",
              "      <td>2003</td>\n",
              "      <td>WA 98108</td>\n",
              "    </tr>\n",
              "    <tr>\n",
              "      <th>4523</th>\n",
              "      <td>0.0</td>\n",
              "      <td>3.0</td>\n",
              "      <td>4.50</td>\n",
              "      <td>5230</td>\n",
              "      <td>17826</td>\n",
              "      <td>2.0</td>\n",
              "      <td>1</td>\n",
              "      <td>4</td>\n",
              "      <td>3</td>\n",
              "      <td>3740</td>\n",
              "      <td>1490</td>\n",
              "      <td>2005</td>\n",
              "      <td>0</td>\n",
              "      <td>WA 98040</td>\n",
              "    </tr>\n",
              "    <tr>\n",
              "      <th>4528</th>\n",
              "      <td>0.0</td>\n",
              "      <td>4.0</td>\n",
              "      <td>5.00</td>\n",
              "      <td>4550</td>\n",
              "      <td>18641</td>\n",
              "      <td>1.0</td>\n",
              "      <td>1</td>\n",
              "      <td>4</td>\n",
              "      <td>3</td>\n",
              "      <td>2600</td>\n",
              "      <td>1950</td>\n",
              "      <td>2002</td>\n",
              "      <td>0</td>\n",
              "      <td>WA 98074</td>\n",
              "    </tr>\n",
              "    <tr>\n",
              "      <th>4534</th>\n",
              "      <td>0.0</td>\n",
              "      <td>3.0</td>\n",
              "      <td>2.75</td>\n",
              "      <td>1310</td>\n",
              "      <td>7300</td>\n",
              "      <td>1.0</td>\n",
              "      <td>0</td>\n",
              "      <td>0</td>\n",
              "      <td>3</td>\n",
              "      <td>1310</td>\n",
              "      <td>0</td>\n",
              "      <td>1957</td>\n",
              "      <td>2000</td>\n",
              "      <td>WA 98008</td>\n",
              "    </tr>\n",
              "    <tr>\n",
              "      <th>4542</th>\n",
              "      <td>0.0</td>\n",
              "      <td>5.0</td>\n",
              "      <td>3.50</td>\n",
              "      <td>2640</td>\n",
              "      <td>6895</td>\n",
              "      <td>2.0</td>\n",
              "      <td>0</td>\n",
              "      <td>0</td>\n",
              "      <td>3</td>\n",
              "      <td>2640</td>\n",
              "      <td>0</td>\n",
              "      <td>2001</td>\n",
              "      <td>0</td>\n",
              "      <td>WA 98065</td>\n",
              "    </tr>\n",
              "    <tr>\n",
              "      <th>4552</th>\n",
              "      <td>0.0</td>\n",
              "      <td>4.0</td>\n",
              "      <td>2.00</td>\n",
              "      <td>2100</td>\n",
              "      <td>4857</td>\n",
              "      <td>2.0</td>\n",
              "      <td>0</td>\n",
              "      <td>0</td>\n",
              "      <td>3</td>\n",
              "      <td>2100</td>\n",
              "      <td>0</td>\n",
              "      <td>1965</td>\n",
              "      <td>1984</td>\n",
              "      <td>WA 98155</td>\n",
              "    </tr>\n",
              "    <tr>\n",
              "      <th>4554</th>\n",
              "      <td>0.0</td>\n",
              "      <td>2.0</td>\n",
              "      <td>1.00</td>\n",
              "      <td>810</td>\n",
              "      <td>8424</td>\n",
              "      <td>1.0</td>\n",
              "      <td>0</td>\n",
              "      <td>0</td>\n",
              "      <td>4</td>\n",
              "      <td>810</td>\n",
              "      <td>0</td>\n",
              "      <td>1959</td>\n",
              "      <td>0</td>\n",
              "      <td>WA 98023</td>\n",
              "    </tr>\n",
              "    <tr>\n",
              "      <th>4555</th>\n",
              "      <td>0.0</td>\n",
              "      <td>2.0</td>\n",
              "      <td>1.50</td>\n",
              "      <td>1520</td>\n",
              "      <td>8040</td>\n",
              "      <td>1.0</td>\n",
              "      <td>0</td>\n",
              "      <td>0</td>\n",
              "      <td>5</td>\n",
              "      <td>1520</td>\n",
              "      <td>0</td>\n",
              "      <td>1951</td>\n",
              "      <td>0</td>\n",
              "      <td>WA 98125</td>\n",
              "    </tr>\n",
              "    <tr>\n",
              "      <th>4558</th>\n",
              "      <td>0.0</td>\n",
              "      <td>4.0</td>\n",
              "      <td>4.25</td>\n",
              "      <td>3500</td>\n",
              "      <td>8750</td>\n",
              "      <td>1.0</td>\n",
              "      <td>0</td>\n",
              "      <td>4</td>\n",
              "      <td>5</td>\n",
              "      <td>2140</td>\n",
              "      <td>1360</td>\n",
              "      <td>1951</td>\n",
              "      <td>0</td>\n",
              "      <td>WA 98177</td>\n",
              "    </tr>\n",
              "    <tr>\n",
              "      <th>4563</th>\n",
              "      <td>0.0</td>\n",
              "      <td>2.0</td>\n",
              "      <td>2.25</td>\n",
              "      <td>2130</td>\n",
              "      <td>4920</td>\n",
              "      <td>1.5</td>\n",
              "      <td>0</td>\n",
              "      <td>4</td>\n",
              "      <td>4</td>\n",
              "      <td>1530</td>\n",
              "      <td>600</td>\n",
              "      <td>1941</td>\n",
              "      <td>1998</td>\n",
              "      <td>WA 98116</td>\n",
              "    </tr>\n",
              "    <tr>\n",
              "      <th>4567</th>\n",
              "      <td>0.0</td>\n",
              "      <td>4.0</td>\n",
              "      <td>2.50</td>\n",
              "      <td>4080</td>\n",
              "      <td>18362</td>\n",
              "      <td>2.0</td>\n",
              "      <td>0</td>\n",
              "      <td>2</td>\n",
              "      <td>4</td>\n",
              "      <td>4080</td>\n",
              "      <td>0</td>\n",
              "      <td>1983</td>\n",
              "      <td>0</td>\n",
              "      <td>WA 98004</td>\n",
              "    </tr>\n",
              "    <tr>\n",
              "      <th>4574</th>\n",
              "      <td>0.0</td>\n",
              "      <td>3.0</td>\n",
              "      <td>1.00</td>\n",
              "      <td>1520</td>\n",
              "      <td>9030</td>\n",
              "      <td>1.0</td>\n",
              "      <td>0</td>\n",
              "      <td>0</td>\n",
              "      <td>3</td>\n",
              "      <td>1520</td>\n",
              "      <td>0</td>\n",
              "      <td>1956</td>\n",
              "      <td>2001</td>\n",
              "      <td>WA 98007</td>\n",
              "    </tr>\n",
              "    <tr>\n",
              "      <th>4575</th>\n",
              "      <td>0.0</td>\n",
              "      <td>5.0</td>\n",
              "      <td>6.25</td>\n",
              "      <td>8020</td>\n",
              "      <td>21738</td>\n",
              "      <td>2.0</td>\n",
              "      <td>0</td>\n",
              "      <td>0</td>\n",
              "      <td>3</td>\n",
              "      <td>8020</td>\n",
              "      <td>0</td>\n",
              "      <td>2001</td>\n",
              "      <td>0</td>\n",
              "      <td>WA 98006</td>\n",
              "    </tr>\n",
              "    <tr>\n",
              "      <th>4588</th>\n",
              "      <td>0.0</td>\n",
              "      <td>4.0</td>\n",
              "      <td>2.25</td>\n",
              "      <td>2890</td>\n",
              "      <td>18226</td>\n",
              "      <td>3.0</td>\n",
              "      <td>1</td>\n",
              "      <td>4</td>\n",
              "      <td>3</td>\n",
              "      <td>2890</td>\n",
              "      <td>0</td>\n",
              "      <td>1984</td>\n",
              "      <td>0</td>\n",
              "      <td>WA 98056</td>\n",
              "    </tr>\n",
              "  </tbody>\n",
              "</table>\n",
              "</div>"
            ],
            "text/plain": [
              "      price  bedrooms  bathrooms  ...  yr_built  yr_renovated  statezip\n",
              "4354    0.0       3.0       1.75  ...      1962             0  WA 98001\n",
              "4356    0.0       4.0       2.75  ...      1960          2001  WA 98199\n",
              "4357    0.0       6.0       2.75  ...      1953          1983  WA 98146\n",
              "4358    0.0       5.0       3.50  ...      1983             0  WA 98075\n",
              "4361    0.0       5.0       1.50  ...      1920             0  WA 98166\n",
              "4362    0.0       4.0       4.00  ...      1990          2009  WA 98074\n",
              "4374    0.0       2.0       2.50  ...      2007             0  WA 98022\n",
              "4376    0.0       4.0       2.25  ...      1960          2001  WA 98166\n",
              "4382    0.0       5.0       4.50  ...      2006             0  WA 98065\n",
              "4383    0.0       5.0       4.00  ...      2013          1923  WA 98004\n",
              "4385    0.0       4.0       4.50  ...      2008             0  WA 98040\n",
              "4386    0.0       4.0       1.50  ...      1954          1975  WA 98042\n",
              "4389    0.0       4.0       3.50  ...      2006             0  WA 98008\n",
              "4394    0.0       5.0       3.25  ...      1977             0  WA 98155\n",
              "4405    0.0       4.0       3.75  ...      1926          1999  WA 98105\n",
              "4408    0.0       5.0       2.25  ...      1990             0  WA 98042\n",
              "4411    0.0       5.0       2.25  ...      1986             0  WA 98188\n",
              "4412    0.0       3.0       3.00  ...      1954             0  WA 98178\n",
              "4413    0.0       4.0       3.00  ...      1990          2009  WA 98023\n",
              "4420    0.0       4.0       1.00  ...      1955          2005  WA 98028\n",
              "4442    0.0       1.0       1.00  ...      1940          1996  WA 98108\n",
              "4448    0.0       5.0       2.75  ...      1925             0  WA 98115\n",
              "4453    0.0       3.0       1.00  ...      1952             0  WA 98040\n",
              "4454    0.0       5.0       2.50  ...      1998          2006  WA 98038\n",
              "4472    0.0       4.0       3.75  ...      2002             0  WA 98074\n",
              "4478    0.0       5.0       2.75  ...      1979             0  WA 98077\n",
              "4479    0.0       5.0       2.00  ...      1951          1999  WA 98178\n",
              "4480    0.0       3.0       2.50  ...      1950             0  WA 98004\n",
              "4481    0.0       5.0       2.75  ...      2013          1923  WA 98056\n",
              "4487    0.0       4.0       1.00  ...      1926             0  WA 98136\n",
              "4499    0.0       5.0       3.75  ...      1998          2006  WA 98074\n",
              "4507    0.0       4.0       1.50  ...      1968             0  WA 98010\n",
              "4509    0.0       6.0       3.00  ...      1952          2002  WA 98040\n",
              "4520    0.0       4.0       2.50  ...      1931             0  WA 98002\n",
              "4521    0.0       4.0       1.00  ...      1959             0  WA 98168\n",
              "4522    0.0       2.0       2.25  ...      1926          2003  WA 98108\n",
              "4523    0.0       3.0       4.50  ...      2005             0  WA 98040\n",
              "4528    0.0       4.0       5.00  ...      2002             0  WA 98074\n",
              "4534    0.0       3.0       2.75  ...      1957          2000  WA 98008\n",
              "4542    0.0       5.0       3.50  ...      2001             0  WA 98065\n",
              "4552    0.0       4.0       2.00  ...      1965          1984  WA 98155\n",
              "4554    0.0       2.0       1.00  ...      1959             0  WA 98023\n",
              "4555    0.0       2.0       1.50  ...      1951             0  WA 98125\n",
              "4558    0.0       4.0       4.25  ...      1951             0  WA 98177\n",
              "4563    0.0       2.0       2.25  ...      1941          1998  WA 98116\n",
              "4567    0.0       4.0       2.50  ...      1983             0  WA 98004\n",
              "4574    0.0       3.0       1.00  ...      1956          2001  WA 98007\n",
              "4575    0.0       5.0       6.25  ...      2001             0  WA 98006\n",
              "4588    0.0       4.0       2.25  ...      1984             0  WA 98056\n",
              "\n",
              "[49 rows x 14 columns]"
            ]
          },
          "metadata": {
            "tags": []
          },
          "execution_count": 103
        }
      ]
    },
    {
      "cell_type": "code",
      "metadata": {
        "id": "cfQ2azARkIt0"
      },
      "source": [
        "import matplotlib.pyplot as plt\n",
        "import seaborn as sns\n",
        "import numpy as np\n",
        "\n",
        "%matplotlib inline"
      ],
      "execution_count": null,
      "outputs": []
    },
    {
      "cell_type": "code",
      "metadata": {
        "execution": {
          "iopub.execute_input": "2021-01-05T18:08:52.695085Z",
          "iopub.status.busy": "2021-01-05T18:08:52.694263Z",
          "iopub.status.idle": "2021-01-05T18:08:52.698839Z",
          "shell.execute_reply": "2021-01-05T18:08:52.698035Z"
        },
        "papermill": {
          "duration": 0.145548,
          "end_time": "2021-01-05T18:08:52.698967",
          "exception": false,
          "start_time": "2021-01-05T18:08:52.553419",
          "status": "completed"
        },
        "tags": [],
        "id": "IaXJ_VPiWPHA",
        "colab": {
          "base_uri": "https://localhost:8080/",
          "height": 416
        },
        "outputId": "e3b61138-eaf3-4540-bfeb-d75cdd3e5231"
      },
      "source": [
        "df1 = df[(df.bedrooms == 4) & \n",
        "         (df.bathrooms > 1) & \n",
        "         (df.bathrooms < 4) & \n",
        "         (df.sqft_living > 2500) & \n",
        "         (df.sqft_living < 3000) & \n",
        "         (df.floors < 3) & \n",
        "         (df.yr_built < 1970)]\n",
        "df1"
      ],
      "execution_count": null,
      "outputs": [
        {
          "output_type": "execute_result",
          "data": {
            "text/html": [
              "<div>\n",
              "<style scoped>\n",
              "    .dataframe tbody tr th:only-of-type {\n",
              "        vertical-align: middle;\n",
              "    }\n",
              "\n",
              "    .dataframe tbody tr th {\n",
              "        vertical-align: top;\n",
              "    }\n",
              "\n",
              "    .dataframe thead th {\n",
              "        text-align: right;\n",
              "    }\n",
              "</style>\n",
              "<table border=\"1\" class=\"dataframe\">\n",
              "  <thead>\n",
              "    <tr style=\"text-align: right;\">\n",
              "      <th></th>\n",
              "      <th>price</th>\n",
              "      <th>bedrooms</th>\n",
              "      <th>bathrooms</th>\n",
              "      <th>sqft_living</th>\n",
              "      <th>sqft_lot</th>\n",
              "      <th>floors</th>\n",
              "      <th>waterfront</th>\n",
              "      <th>view</th>\n",
              "      <th>condition</th>\n",
              "      <th>sqft_above</th>\n",
              "      <th>sqft_basement</th>\n",
              "      <th>yr_built</th>\n",
              "      <th>yr_renovated</th>\n",
              "      <th>statezip</th>\n",
              "    </tr>\n",
              "  </thead>\n",
              "  <tbody>\n",
              "    <tr>\n",
              "      <th>11</th>\n",
              "      <td>1.400000e+06</td>\n",
              "      <td>4.0</td>\n",
              "      <td>2.50</td>\n",
              "      <td>2920</td>\n",
              "      <td>4000</td>\n",
              "      <td>1.5</td>\n",
              "      <td>0</td>\n",
              "      <td>0</td>\n",
              "      <td>5</td>\n",
              "      <td>1910</td>\n",
              "      <td>1010</td>\n",
              "      <td>1909</td>\n",
              "      <td>1988</td>\n",
              "      <td>WA 98105</td>\n",
              "    </tr>\n",
              "    <tr>\n",
              "      <th>172</th>\n",
              "      <td>4.070000e+05</td>\n",
              "      <td>4.0</td>\n",
              "      <td>2.25</td>\n",
              "      <td>2810</td>\n",
              "      <td>23400</td>\n",
              "      <td>1.0</td>\n",
              "      <td>0</td>\n",
              "      <td>1</td>\n",
              "      <td>3</td>\n",
              "      <td>1710</td>\n",
              "      <td>1100</td>\n",
              "      <td>1958</td>\n",
              "      <td>2004</td>\n",
              "      <td>WA 98198</td>\n",
              "    </tr>\n",
              "    <tr>\n",
              "      <th>207</th>\n",
              "      <td>3.600000e+05</td>\n",
              "      <td>4.0</td>\n",
              "      <td>2.00</td>\n",
              "      <td>2680</td>\n",
              "      <td>18768</td>\n",
              "      <td>1.0</td>\n",
              "      <td>0</td>\n",
              "      <td>0</td>\n",
              "      <td>5</td>\n",
              "      <td>2680</td>\n",
              "      <td>0</td>\n",
              "      <td>1965</td>\n",
              "      <td>0</td>\n",
              "      <td>WA 98001</td>\n",
              "    </tr>\n",
              "    <tr>\n",
              "      <th>257</th>\n",
              "      <td>7.499500e+05</td>\n",
              "      <td>4.0</td>\n",
              "      <td>2.75</td>\n",
              "      <td>2600</td>\n",
              "      <td>6050</td>\n",
              "      <td>2.0</td>\n",
              "      <td>0</td>\n",
              "      <td>0</td>\n",
              "      <td>5</td>\n",
              "      <td>1960</td>\n",
              "      <td>640</td>\n",
              "      <td>1949</td>\n",
              "      <td>0</td>\n",
              "      <td>WA 98116</td>\n",
              "    </tr>\n",
              "    <tr>\n",
              "      <th>261</th>\n",
              "      <td>5.810000e+05</td>\n",
              "      <td>4.0</td>\n",
              "      <td>2.00</td>\n",
              "      <td>2510</td>\n",
              "      <td>13695</td>\n",
              "      <td>1.0</td>\n",
              "      <td>0</td>\n",
              "      <td>0</td>\n",
              "      <td>4</td>\n",
              "      <td>1280</td>\n",
              "      <td>1230</td>\n",
              "      <td>1961</td>\n",
              "      <td>2001</td>\n",
              "      <td>WA 98033</td>\n",
              "    </tr>\n",
              "    <tr>\n",
              "      <th>...</th>\n",
              "      <td>...</td>\n",
              "      <td>...</td>\n",
              "      <td>...</td>\n",
              "      <td>...</td>\n",
              "      <td>...</td>\n",
              "      <td>...</td>\n",
              "      <td>...</td>\n",
              "      <td>...</td>\n",
              "      <td>...</td>\n",
              "      <td>...</td>\n",
              "      <td>...</td>\n",
              "      <td>...</td>\n",
              "      <td>...</td>\n",
              "      <td>...</td>\n",
              "    </tr>\n",
              "    <tr>\n",
              "      <th>4370</th>\n",
              "      <td>5.375000e+05</td>\n",
              "      <td>4.0</td>\n",
              "      <td>3.00</td>\n",
              "      <td>2920</td>\n",
              "      <td>33976</td>\n",
              "      <td>1.0</td>\n",
              "      <td>0</td>\n",
              "      <td>3</td>\n",
              "      <td>5</td>\n",
              "      <td>1460</td>\n",
              "      <td>1460</td>\n",
              "      <td>1964</td>\n",
              "      <td>0</td>\n",
              "      <td>WA 98008</td>\n",
              "    </tr>\n",
              "    <tr>\n",
              "      <th>4380</th>\n",
              "      <td>6.420000e+05</td>\n",
              "      <td>4.0</td>\n",
              "      <td>2.50</td>\n",
              "      <td>2550</td>\n",
              "      <td>10000</td>\n",
              "      <td>1.0</td>\n",
              "      <td>0</td>\n",
              "      <td>0</td>\n",
              "      <td>3</td>\n",
              "      <td>1290</td>\n",
              "      <td>1260</td>\n",
              "      <td>1964</td>\n",
              "      <td>2000</td>\n",
              "      <td>WA 98007</td>\n",
              "    </tr>\n",
              "    <tr>\n",
              "      <th>4450</th>\n",
              "      <td>5.961654e+05</td>\n",
              "      <td>4.0</td>\n",
              "      <td>2.00</td>\n",
              "      <td>2580</td>\n",
              "      <td>6000</td>\n",
              "      <td>1.0</td>\n",
              "      <td>0</td>\n",
              "      <td>0</td>\n",
              "      <td>5</td>\n",
              "      <td>1300</td>\n",
              "      <td>1280</td>\n",
              "      <td>1950</td>\n",
              "      <td>0</td>\n",
              "      <td>WA 98199</td>\n",
              "    </tr>\n",
              "    <tr>\n",
              "      <th>4460</th>\n",
              "      <td>5.350000e+05</td>\n",
              "      <td>4.0</td>\n",
              "      <td>2.25</td>\n",
              "      <td>2980</td>\n",
              "      <td>8051</td>\n",
              "      <td>1.5</td>\n",
              "      <td>0</td>\n",
              "      <td>2</td>\n",
              "      <td>4</td>\n",
              "      <td>2020</td>\n",
              "      <td>960</td>\n",
              "      <td>1935</td>\n",
              "      <td>0</td>\n",
              "      <td>WA 98199</td>\n",
              "    </tr>\n",
              "    <tr>\n",
              "      <th>4519</th>\n",
              "      <td>9.945000e+05</td>\n",
              "      <td>4.0</td>\n",
              "      <td>2.25</td>\n",
              "      <td>2870</td>\n",
              "      <td>6280</td>\n",
              "      <td>1.5</td>\n",
              "      <td>0</td>\n",
              "      <td>0</td>\n",
              "      <td>4</td>\n",
              "      <td>1980</td>\n",
              "      <td>890</td>\n",
              "      <td>1905</td>\n",
              "      <td>0</td>\n",
              "      <td>WA 98112</td>\n",
              "    </tr>\n",
              "  </tbody>\n",
              "</table>\n",
              "<p>79 rows × 14 columns</p>\n",
              "</div>"
            ],
            "text/plain": [
              "             price  bedrooms  bathrooms  ...  yr_built  yr_renovated  statezip\n",
              "11    1.400000e+06       4.0       2.50  ...      1909          1988  WA 98105\n",
              "172   4.070000e+05       4.0       2.25  ...      1958          2004  WA 98198\n",
              "207   3.600000e+05       4.0       2.00  ...      1965             0  WA 98001\n",
              "257   7.499500e+05       4.0       2.75  ...      1949             0  WA 98116\n",
              "261   5.810000e+05       4.0       2.00  ...      1961          2001  WA 98033\n",
              "...            ...       ...        ...  ...       ...           ...       ...\n",
              "4370  5.375000e+05       4.0       3.00  ...      1964             0  WA 98008\n",
              "4380  6.420000e+05       4.0       2.50  ...      1964          2000  WA 98007\n",
              "4450  5.961654e+05       4.0       2.00  ...      1950             0  WA 98199\n",
              "4460  5.350000e+05       4.0       2.25  ...      1935             0  WA 98199\n",
              "4519  9.945000e+05       4.0       2.25  ...      1905             0  WA 98112\n",
              "\n",
              "[79 rows x 14 columns]"
            ]
          },
          "metadata": {
            "tags": []
          },
          "execution_count": 105
        }
      ]
    },
    {
      "cell_type": "code",
      "metadata": {
        "execution": {
          "iopub.execute_input": "2021-01-05T18:08:52.965271Z",
          "iopub.status.busy": "2021-01-05T18:08:52.963814Z",
          "iopub.status.idle": "2021-01-05T18:08:52.967843Z",
          "shell.execute_reply": "2021-01-05T18:08:52.968558Z"
        },
        "papermill": {
          "duration": 0.139733,
          "end_time": "2021-01-05T18:08:52.968723",
          "exception": false,
          "start_time": "2021-01-05T18:08:52.828990",
          "status": "completed"
        },
        "tags": [],
        "id": "3cCsOSMjWPHA",
        "colab": {
          "base_uri": "https://localhost:8080/"
        },
        "outputId": "ce03d2a8-fc01-4356-d9d1-6a6c6dc9157e"
      },
      "source": [
        "df1.shape"
      ],
      "execution_count": null,
      "outputs": [
        {
          "output_type": "execute_result",
          "data": {
            "text/plain": [
              "(79, 14)"
            ]
          },
          "metadata": {
            "tags": []
          },
          "execution_count": 106
        }
      ]
    },
    {
      "cell_type": "code",
      "metadata": {
        "id": "9lK9iOxPmrPr",
        "colab": {
          "base_uri": "https://localhost:8080/"
        },
        "outputId": "d1b610c4-cf0a-4357-fac4-f6e281078cd9"
      },
      "source": [
        "df1.columns"
      ],
      "execution_count": null,
      "outputs": [
        {
          "output_type": "execute_result",
          "data": {
            "text/plain": [
              "Index(['price', 'bedrooms', 'bathrooms', 'sqft_living', 'sqft_lot', 'floors',\n",
              "       'waterfront', 'view', 'condition', 'sqft_above', 'sqft_basement',\n",
              "       'yr_built', 'yr_renovated', 'statezip'],\n",
              "      dtype='object')"
            ]
          },
          "metadata": {
            "tags": []
          },
          "execution_count": 107
        }
      ]
    },
    {
      "cell_type": "code",
      "metadata": {
        "execution": {
          "iopub.execute_input": "2021-01-05T18:08:53.411212Z",
          "iopub.status.busy": "2021-01-05T18:08:53.410579Z",
          "iopub.status.idle": "2021-01-05T18:08:53.415972Z",
          "shell.execute_reply": "2021-01-05T18:08:53.415350Z"
        },
        "papermill": {
          "duration": 0.099381,
          "end_time": "2021-01-05T18:08:53.416073",
          "exception": false,
          "start_time": "2021-01-05T18:08:53.316692",
          "status": "completed"
        },
        "tags": [],
        "id": "KYyVamWYWPHC",
        "colab": {
          "base_uri": "https://localhost:8080/",
          "height": 49
        },
        "outputId": "233a2f55-54ca-488e-b63d-a17ce8b765b1"
      },
      "source": [
        "price = df1.price.mean()\n",
        "df['price'].replace(0, price, inplace = True)\n",
        "(df[(df['price'] == 0)])"
      ],
      "execution_count": null,
      "outputs": [
        {
          "output_type": "execute_result",
          "data": {
            "text/html": [
              "<div>\n",
              "<style scoped>\n",
              "    .dataframe tbody tr th:only-of-type {\n",
              "        vertical-align: middle;\n",
              "    }\n",
              "\n",
              "    .dataframe tbody tr th {\n",
              "        vertical-align: top;\n",
              "    }\n",
              "\n",
              "    .dataframe thead th {\n",
              "        text-align: right;\n",
              "    }\n",
              "</style>\n",
              "<table border=\"1\" class=\"dataframe\">\n",
              "  <thead>\n",
              "    <tr style=\"text-align: right;\">\n",
              "      <th></th>\n",
              "      <th>price</th>\n",
              "      <th>bedrooms</th>\n",
              "      <th>bathrooms</th>\n",
              "      <th>sqft_living</th>\n",
              "      <th>sqft_lot</th>\n",
              "      <th>floors</th>\n",
              "      <th>waterfront</th>\n",
              "      <th>view</th>\n",
              "      <th>condition</th>\n",
              "      <th>sqft_above</th>\n",
              "      <th>sqft_basement</th>\n",
              "      <th>yr_built</th>\n",
              "      <th>yr_renovated</th>\n",
              "      <th>statezip</th>\n",
              "    </tr>\n",
              "  </thead>\n",
              "  <tbody>\n",
              "  </tbody>\n",
              "</table>\n",
              "</div>"
            ],
            "text/plain": [
              "Empty DataFrame\n",
              "Columns: [price, bedrooms, bathrooms, sqft_living, sqft_lot, floors, waterfront, view, condition, sqft_above, sqft_basement, yr_built, yr_renovated, statezip]\n",
              "Index: []"
            ]
          },
          "metadata": {
            "tags": []
          },
          "execution_count": 108
        }
      ]
    },
    {
      "cell_type": "code",
      "metadata": {
        "id": "64g9ehstpWZ0",
        "colab": {
          "base_uri": "https://localhost:8080/",
          "height": 49
        },
        "outputId": "e5c89abf-110a-4a9d-9306-e9a17b2fbec5"
      },
      "source": [
        "bedrooms = df1.bedrooms.mean()\n",
        "df['bedrooms'].replace(0, bedrooms, inplace = True)\n",
        "(df[(df['bedrooms'] == 0)])"
      ],
      "execution_count": null,
      "outputs": [
        {
          "output_type": "execute_result",
          "data": {
            "text/html": [
              "<div>\n",
              "<style scoped>\n",
              "    .dataframe tbody tr th:only-of-type {\n",
              "        vertical-align: middle;\n",
              "    }\n",
              "\n",
              "    .dataframe tbody tr th {\n",
              "        vertical-align: top;\n",
              "    }\n",
              "\n",
              "    .dataframe thead th {\n",
              "        text-align: right;\n",
              "    }\n",
              "</style>\n",
              "<table border=\"1\" class=\"dataframe\">\n",
              "  <thead>\n",
              "    <tr style=\"text-align: right;\">\n",
              "      <th></th>\n",
              "      <th>price</th>\n",
              "      <th>bedrooms</th>\n",
              "      <th>bathrooms</th>\n",
              "      <th>sqft_living</th>\n",
              "      <th>sqft_lot</th>\n",
              "      <th>floors</th>\n",
              "      <th>waterfront</th>\n",
              "      <th>view</th>\n",
              "      <th>condition</th>\n",
              "      <th>sqft_above</th>\n",
              "      <th>sqft_basement</th>\n",
              "      <th>yr_built</th>\n",
              "      <th>yr_renovated</th>\n",
              "      <th>statezip</th>\n",
              "    </tr>\n",
              "  </thead>\n",
              "  <tbody>\n",
              "  </tbody>\n",
              "</table>\n",
              "</div>"
            ],
            "text/plain": [
              "Empty DataFrame\n",
              "Columns: [price, bedrooms, bathrooms, sqft_living, sqft_lot, floors, waterfront, view, condition, sqft_above, sqft_basement, yr_built, yr_renovated, statezip]\n",
              "Index: []"
            ]
          },
          "metadata": {
            "tags": []
          },
          "execution_count": 109
        }
      ]
    },
    {
      "cell_type": "code",
      "metadata": {
        "id": "V1LJK6TCpYHM",
        "colab": {
          "base_uri": "https://localhost:8080/",
          "height": 49
        },
        "outputId": "c2bc19b3-d148-4c63-d86c-7560be270fb9"
      },
      "source": [
        "bathrooms = df1.bathrooms.mean()\n",
        "df['bathrooms'].replace(0, bathrooms, inplace = True)\n",
        "(df[(df['bathrooms'] == 0)])"
      ],
      "execution_count": null,
      "outputs": [
        {
          "output_type": "execute_result",
          "data": {
            "text/html": [
              "<div>\n",
              "<style scoped>\n",
              "    .dataframe tbody tr th:only-of-type {\n",
              "        vertical-align: middle;\n",
              "    }\n",
              "\n",
              "    .dataframe tbody tr th {\n",
              "        vertical-align: top;\n",
              "    }\n",
              "\n",
              "    .dataframe thead th {\n",
              "        text-align: right;\n",
              "    }\n",
              "</style>\n",
              "<table border=\"1\" class=\"dataframe\">\n",
              "  <thead>\n",
              "    <tr style=\"text-align: right;\">\n",
              "      <th></th>\n",
              "      <th>price</th>\n",
              "      <th>bedrooms</th>\n",
              "      <th>bathrooms</th>\n",
              "      <th>sqft_living</th>\n",
              "      <th>sqft_lot</th>\n",
              "      <th>floors</th>\n",
              "      <th>waterfront</th>\n",
              "      <th>view</th>\n",
              "      <th>condition</th>\n",
              "      <th>sqft_above</th>\n",
              "      <th>sqft_basement</th>\n",
              "      <th>yr_built</th>\n",
              "      <th>yr_renovated</th>\n",
              "      <th>statezip</th>\n",
              "    </tr>\n",
              "  </thead>\n",
              "  <tbody>\n",
              "  </tbody>\n",
              "</table>\n",
              "</div>"
            ],
            "text/plain": [
              "Empty DataFrame\n",
              "Columns: [price, bedrooms, bathrooms, sqft_living, sqft_lot, floors, waterfront, view, condition, sqft_above, sqft_basement, yr_built, yr_renovated, statezip]\n",
              "Index: []"
            ]
          },
          "metadata": {
            "tags": []
          },
          "execution_count": 110
        }
      ]
    },
    {
      "cell_type": "code",
      "metadata": {
        "id": "Ui7rtMRJpcTP",
        "colab": {
          "base_uri": "https://localhost:8080/",
          "height": 49
        },
        "outputId": "54243a54-982f-4cdd-ee26-d9949f17387c"
      },
      "source": [
        "sqft_living = df1.sqft_living.mean()\n",
        "df['sqft_living'].replace(0, sqft_living, inplace = True)\n",
        "(df[(df['sqft_living'] == 0)])"
      ],
      "execution_count": null,
      "outputs": [
        {
          "output_type": "execute_result",
          "data": {
            "text/html": [
              "<div>\n",
              "<style scoped>\n",
              "    .dataframe tbody tr th:only-of-type {\n",
              "        vertical-align: middle;\n",
              "    }\n",
              "\n",
              "    .dataframe tbody tr th {\n",
              "        vertical-align: top;\n",
              "    }\n",
              "\n",
              "    .dataframe thead th {\n",
              "        text-align: right;\n",
              "    }\n",
              "</style>\n",
              "<table border=\"1\" class=\"dataframe\">\n",
              "  <thead>\n",
              "    <tr style=\"text-align: right;\">\n",
              "      <th></th>\n",
              "      <th>price</th>\n",
              "      <th>bedrooms</th>\n",
              "      <th>bathrooms</th>\n",
              "      <th>sqft_living</th>\n",
              "      <th>sqft_lot</th>\n",
              "      <th>floors</th>\n",
              "      <th>waterfront</th>\n",
              "      <th>view</th>\n",
              "      <th>condition</th>\n",
              "      <th>sqft_above</th>\n",
              "      <th>sqft_basement</th>\n",
              "      <th>yr_built</th>\n",
              "      <th>yr_renovated</th>\n",
              "      <th>statezip</th>\n",
              "    </tr>\n",
              "  </thead>\n",
              "  <tbody>\n",
              "  </tbody>\n",
              "</table>\n",
              "</div>"
            ],
            "text/plain": [
              "Empty DataFrame\n",
              "Columns: [price, bedrooms, bathrooms, sqft_living, sqft_lot, floors, waterfront, view, condition, sqft_above, sqft_basement, yr_built, yr_renovated, statezip]\n",
              "Index: []"
            ]
          },
          "metadata": {
            "tags": []
          },
          "execution_count": 111
        }
      ]
    },
    {
      "cell_type": "code",
      "metadata": {
        "id": "ME7W2QTupgAz",
        "colab": {
          "base_uri": "https://localhost:8080/",
          "height": 49
        },
        "outputId": "7f81d780-39d6-413a-a114-41b378b9d7a8"
      },
      "source": [
        "floors = df1.floors.mean()\n",
        "df['floors'].replace(0, floors, inplace = True)\n",
        "(df[(df['floors'] == 0)])"
      ],
      "execution_count": null,
      "outputs": [
        {
          "output_type": "execute_result",
          "data": {
            "text/html": [
              "<div>\n",
              "<style scoped>\n",
              "    .dataframe tbody tr th:only-of-type {\n",
              "        vertical-align: middle;\n",
              "    }\n",
              "\n",
              "    .dataframe tbody tr th {\n",
              "        vertical-align: top;\n",
              "    }\n",
              "\n",
              "    .dataframe thead th {\n",
              "        text-align: right;\n",
              "    }\n",
              "</style>\n",
              "<table border=\"1\" class=\"dataframe\">\n",
              "  <thead>\n",
              "    <tr style=\"text-align: right;\">\n",
              "      <th></th>\n",
              "      <th>price</th>\n",
              "      <th>bedrooms</th>\n",
              "      <th>bathrooms</th>\n",
              "      <th>sqft_living</th>\n",
              "      <th>sqft_lot</th>\n",
              "      <th>floors</th>\n",
              "      <th>waterfront</th>\n",
              "      <th>view</th>\n",
              "      <th>condition</th>\n",
              "      <th>sqft_above</th>\n",
              "      <th>sqft_basement</th>\n",
              "      <th>yr_built</th>\n",
              "      <th>yr_renovated</th>\n",
              "      <th>statezip</th>\n",
              "    </tr>\n",
              "  </thead>\n",
              "  <tbody>\n",
              "  </tbody>\n",
              "</table>\n",
              "</div>"
            ],
            "text/plain": [
              "Empty DataFrame\n",
              "Columns: [price, bedrooms, bathrooms, sqft_living, sqft_lot, floors, waterfront, view, condition, sqft_above, sqft_basement, yr_built, yr_renovated, statezip]\n",
              "Index: []"
            ]
          },
          "metadata": {
            "tags": []
          },
          "execution_count": 112
        }
      ]
    },
    {
      "cell_type": "code",
      "metadata": {
        "id": "iMdcJksvpiUj",
        "colab": {
          "base_uri": "https://localhost:8080/",
          "height": 49
        },
        "outputId": "aa456752-0c06-4327-85fb-e1684caf62f0"
      },
      "source": [
        "condition = df1.condition.mean()\n",
        "df['condition'].replace(0, condition, inplace = True)\n",
        "(df[(df['condition'] == 0)])"
      ],
      "execution_count": null,
      "outputs": [
        {
          "output_type": "execute_result",
          "data": {
            "text/html": [
              "<div>\n",
              "<style scoped>\n",
              "    .dataframe tbody tr th:only-of-type {\n",
              "        vertical-align: middle;\n",
              "    }\n",
              "\n",
              "    .dataframe tbody tr th {\n",
              "        vertical-align: top;\n",
              "    }\n",
              "\n",
              "    .dataframe thead th {\n",
              "        text-align: right;\n",
              "    }\n",
              "</style>\n",
              "<table border=\"1\" class=\"dataframe\">\n",
              "  <thead>\n",
              "    <tr style=\"text-align: right;\">\n",
              "      <th></th>\n",
              "      <th>price</th>\n",
              "      <th>bedrooms</th>\n",
              "      <th>bathrooms</th>\n",
              "      <th>sqft_living</th>\n",
              "      <th>sqft_lot</th>\n",
              "      <th>floors</th>\n",
              "      <th>waterfront</th>\n",
              "      <th>view</th>\n",
              "      <th>condition</th>\n",
              "      <th>sqft_above</th>\n",
              "      <th>sqft_basement</th>\n",
              "      <th>yr_built</th>\n",
              "      <th>yr_renovated</th>\n",
              "      <th>statezip</th>\n",
              "    </tr>\n",
              "  </thead>\n",
              "  <tbody>\n",
              "  </tbody>\n",
              "</table>\n",
              "</div>"
            ],
            "text/plain": [
              "Empty DataFrame\n",
              "Columns: [price, bedrooms, bathrooms, sqft_living, sqft_lot, floors, waterfront, view, condition, sqft_above, sqft_basement, yr_built, yr_renovated, statezip]\n",
              "Index: []"
            ]
          },
          "metadata": {
            "tags": []
          },
          "execution_count": 113
        }
      ]
    },
    {
      "cell_type": "code",
      "metadata": {
        "id": "ig3bhbbEpkee",
        "colab": {
          "base_uri": "https://localhost:8080/",
          "height": 49
        },
        "outputId": "584f180b-ad17-4275-d6c0-31c6b3c9bee9"
      },
      "source": [
        "yr_built = df1.yr_built.mean()\n",
        "df['yr_built'].replace(0, yr_built, inplace = True)\n",
        "(df[(df['yr_built'] == 0)])"
      ],
      "execution_count": null,
      "outputs": [
        {
          "output_type": "execute_result",
          "data": {
            "text/html": [
              "<div>\n",
              "<style scoped>\n",
              "    .dataframe tbody tr th:only-of-type {\n",
              "        vertical-align: middle;\n",
              "    }\n",
              "\n",
              "    .dataframe tbody tr th {\n",
              "        vertical-align: top;\n",
              "    }\n",
              "\n",
              "    .dataframe thead th {\n",
              "        text-align: right;\n",
              "    }\n",
              "</style>\n",
              "<table border=\"1\" class=\"dataframe\">\n",
              "  <thead>\n",
              "    <tr style=\"text-align: right;\">\n",
              "      <th></th>\n",
              "      <th>price</th>\n",
              "      <th>bedrooms</th>\n",
              "      <th>bathrooms</th>\n",
              "      <th>sqft_living</th>\n",
              "      <th>sqft_lot</th>\n",
              "      <th>floors</th>\n",
              "      <th>waterfront</th>\n",
              "      <th>view</th>\n",
              "      <th>condition</th>\n",
              "      <th>sqft_above</th>\n",
              "      <th>sqft_basement</th>\n",
              "      <th>yr_built</th>\n",
              "      <th>yr_renovated</th>\n",
              "      <th>statezip</th>\n",
              "    </tr>\n",
              "  </thead>\n",
              "  <tbody>\n",
              "  </tbody>\n",
              "</table>\n",
              "</div>"
            ],
            "text/plain": [
              "Empty DataFrame\n",
              "Columns: [price, bedrooms, bathrooms, sqft_living, sqft_lot, floors, waterfront, view, condition, sqft_above, sqft_basement, yr_built, yr_renovated, statezip]\n",
              "Index: []"
            ]
          },
          "metadata": {
            "tags": []
          },
          "execution_count": 114
        }
      ]
    },
    {
      "cell_type": "code",
      "metadata": {
        "id": "hA0vCCSupl8b",
        "colab": {
          "base_uri": "https://localhost:8080/",
          "height": 49
        },
        "outputId": "4a386df9-9a62-415d-cb09-0f93a9a8fc88"
      },
      "source": [
        "statezip = df1.statezip.idxmax\n",
        "df['statezip'].replace(0, statezip, inplace = True)\n",
        "(df[(df['statezip'] == 0)])"
      ],
      "execution_count": null,
      "outputs": [
        {
          "output_type": "execute_result",
          "data": {
            "text/html": [
              "<div>\n",
              "<style scoped>\n",
              "    .dataframe tbody tr th:only-of-type {\n",
              "        vertical-align: middle;\n",
              "    }\n",
              "\n",
              "    .dataframe tbody tr th {\n",
              "        vertical-align: top;\n",
              "    }\n",
              "\n",
              "    .dataframe thead th {\n",
              "        text-align: right;\n",
              "    }\n",
              "</style>\n",
              "<table border=\"1\" class=\"dataframe\">\n",
              "  <thead>\n",
              "    <tr style=\"text-align: right;\">\n",
              "      <th></th>\n",
              "      <th>price</th>\n",
              "      <th>bedrooms</th>\n",
              "      <th>bathrooms</th>\n",
              "      <th>sqft_living</th>\n",
              "      <th>sqft_lot</th>\n",
              "      <th>floors</th>\n",
              "      <th>waterfront</th>\n",
              "      <th>view</th>\n",
              "      <th>condition</th>\n",
              "      <th>sqft_above</th>\n",
              "      <th>sqft_basement</th>\n",
              "      <th>yr_built</th>\n",
              "      <th>yr_renovated</th>\n",
              "      <th>statezip</th>\n",
              "    </tr>\n",
              "  </thead>\n",
              "  <tbody>\n",
              "  </tbody>\n",
              "</table>\n",
              "</div>"
            ],
            "text/plain": [
              "Empty DataFrame\n",
              "Columns: [price, bedrooms, bathrooms, sqft_living, sqft_lot, floors, waterfront, view, condition, sqft_above, sqft_basement, yr_built, yr_renovated, statezip]\n",
              "Index: []"
            ]
          },
          "metadata": {
            "tags": []
          },
          "execution_count": 115
        }
      ]
    },
    {
      "cell_type": "code",
      "metadata": {
        "id": "XSEjHSYqqBeG",
        "colab": {
          "base_uri": "https://localhost:8080/"
        },
        "outputId": "4dfc4b8e-f591-43ab-d23e-25fed3609936"
      },
      "source": [
        "df.info()"
      ],
      "execution_count": null,
      "outputs": [
        {
          "output_type": "stream",
          "text": [
            "<class 'pandas.core.frame.DataFrame'>\n",
            "RangeIndex: 4600 entries, 0 to 4599\n",
            "Data columns (total 14 columns):\n",
            " #   Column         Non-Null Count  Dtype  \n",
            "---  ------         --------------  -----  \n",
            " 0   price          4600 non-null   float64\n",
            " 1   bedrooms       4600 non-null   float64\n",
            " 2   bathrooms      4600 non-null   float64\n",
            " 3   sqft_living    4600 non-null   int64  \n",
            " 4   sqft_lot       4600 non-null   int64  \n",
            " 5   floors         4600 non-null   float64\n",
            " 6   waterfront     4600 non-null   int64  \n",
            " 7   view           4600 non-null   int64  \n",
            " 8   condition      4600 non-null   int64  \n",
            " 9   sqft_above     4600 non-null   int64  \n",
            " 10  sqft_basement  4600 non-null   int64  \n",
            " 11  yr_built       4600 non-null   int64  \n",
            " 12  yr_renovated   4600 non-null   int64  \n",
            " 13  statezip       4600 non-null   object \n",
            "dtypes: float64(4), int64(9), object(1)\n",
            "memory usage: 503.2+ KB\n"
          ],
          "name": "stdout"
        }
      ]
    },
    {
      "cell_type": "code",
      "metadata": {
        "id": "Yd6f5xcVqHKR",
        "colab": {
          "base_uri": "https://localhost:8080/",
          "height": 202
        },
        "outputId": "74905e4a-76b8-44f0-e5f4-7ec96ed19a3f"
      },
      "source": [
        "df.head()"
      ],
      "execution_count": null,
      "outputs": [
        {
          "output_type": "execute_result",
          "data": {
            "text/html": [
              "<div>\n",
              "<style scoped>\n",
              "    .dataframe tbody tr th:only-of-type {\n",
              "        vertical-align: middle;\n",
              "    }\n",
              "\n",
              "    .dataframe tbody tr th {\n",
              "        vertical-align: top;\n",
              "    }\n",
              "\n",
              "    .dataframe thead th {\n",
              "        text-align: right;\n",
              "    }\n",
              "</style>\n",
              "<table border=\"1\" class=\"dataframe\">\n",
              "  <thead>\n",
              "    <tr style=\"text-align: right;\">\n",
              "      <th></th>\n",
              "      <th>price</th>\n",
              "      <th>bedrooms</th>\n",
              "      <th>bathrooms</th>\n",
              "      <th>sqft_living</th>\n",
              "      <th>sqft_lot</th>\n",
              "      <th>floors</th>\n",
              "      <th>waterfront</th>\n",
              "      <th>view</th>\n",
              "      <th>condition</th>\n",
              "      <th>sqft_above</th>\n",
              "      <th>sqft_basement</th>\n",
              "      <th>yr_built</th>\n",
              "      <th>yr_renovated</th>\n",
              "      <th>statezip</th>\n",
              "    </tr>\n",
              "  </thead>\n",
              "  <tbody>\n",
              "    <tr>\n",
              "      <th>0</th>\n",
              "      <td>313000.0</td>\n",
              "      <td>3.0</td>\n",
              "      <td>1.50</td>\n",
              "      <td>1340</td>\n",
              "      <td>7912</td>\n",
              "      <td>1.5</td>\n",
              "      <td>0</td>\n",
              "      <td>0</td>\n",
              "      <td>3</td>\n",
              "      <td>1340</td>\n",
              "      <td>0</td>\n",
              "      <td>1955</td>\n",
              "      <td>2005</td>\n",
              "      <td>WA 98133</td>\n",
              "    </tr>\n",
              "    <tr>\n",
              "      <th>1</th>\n",
              "      <td>2384000.0</td>\n",
              "      <td>5.0</td>\n",
              "      <td>2.50</td>\n",
              "      <td>3650</td>\n",
              "      <td>9050</td>\n",
              "      <td>2.0</td>\n",
              "      <td>0</td>\n",
              "      <td>4</td>\n",
              "      <td>5</td>\n",
              "      <td>3370</td>\n",
              "      <td>280</td>\n",
              "      <td>1921</td>\n",
              "      <td>0</td>\n",
              "      <td>WA 98119</td>\n",
              "    </tr>\n",
              "    <tr>\n",
              "      <th>2</th>\n",
              "      <td>342000.0</td>\n",
              "      <td>3.0</td>\n",
              "      <td>2.00</td>\n",
              "      <td>1930</td>\n",
              "      <td>11947</td>\n",
              "      <td>1.0</td>\n",
              "      <td>0</td>\n",
              "      <td>0</td>\n",
              "      <td>4</td>\n",
              "      <td>1930</td>\n",
              "      <td>0</td>\n",
              "      <td>1966</td>\n",
              "      <td>0</td>\n",
              "      <td>WA 98042</td>\n",
              "    </tr>\n",
              "    <tr>\n",
              "      <th>3</th>\n",
              "      <td>420000.0</td>\n",
              "      <td>3.0</td>\n",
              "      <td>2.25</td>\n",
              "      <td>2000</td>\n",
              "      <td>8030</td>\n",
              "      <td>1.0</td>\n",
              "      <td>0</td>\n",
              "      <td>0</td>\n",
              "      <td>4</td>\n",
              "      <td>1000</td>\n",
              "      <td>1000</td>\n",
              "      <td>1963</td>\n",
              "      <td>0</td>\n",
              "      <td>WA 98008</td>\n",
              "    </tr>\n",
              "    <tr>\n",
              "      <th>4</th>\n",
              "      <td>550000.0</td>\n",
              "      <td>4.0</td>\n",
              "      <td>2.50</td>\n",
              "      <td>1940</td>\n",
              "      <td>10500</td>\n",
              "      <td>1.0</td>\n",
              "      <td>0</td>\n",
              "      <td>0</td>\n",
              "      <td>4</td>\n",
              "      <td>1140</td>\n",
              "      <td>800</td>\n",
              "      <td>1976</td>\n",
              "      <td>1992</td>\n",
              "      <td>WA 98052</td>\n",
              "    </tr>\n",
              "  </tbody>\n",
              "</table>\n",
              "</div>"
            ],
            "text/plain": [
              "       price  bedrooms  bathrooms  ...  yr_built  yr_renovated  statezip\n",
              "0   313000.0       3.0       1.50  ...      1955          2005  WA 98133\n",
              "1  2384000.0       5.0       2.50  ...      1921             0  WA 98119\n",
              "2   342000.0       3.0       2.00  ...      1966             0  WA 98042\n",
              "3   420000.0       3.0       2.25  ...      1963             0  WA 98008\n",
              "4   550000.0       4.0       2.50  ...      1976          1992  WA 98052\n",
              "\n",
              "[5 rows x 14 columns]"
            ]
          },
          "metadata": {
            "tags": []
          },
          "execution_count": 117
        }
      ]
    },
    {
      "cell_type": "code",
      "metadata": {
        "id": "4_T0IiCnqcp0",
        "colab": {
          "base_uri": "https://localhost:8080/",
          "height": 202
        },
        "outputId": "90c80280-cb48-4221-fcd8-59ee8bb90e66"
      },
      "source": [
        "X=df.drop(['price','yr_built','yr_renovated','statezip'],axis=1)\n",
        "X.head()"
      ],
      "execution_count": null,
      "outputs": [
        {
          "output_type": "execute_result",
          "data": {
            "text/html": [
              "<div>\n",
              "<style scoped>\n",
              "    .dataframe tbody tr th:only-of-type {\n",
              "        vertical-align: middle;\n",
              "    }\n",
              "\n",
              "    .dataframe tbody tr th {\n",
              "        vertical-align: top;\n",
              "    }\n",
              "\n",
              "    .dataframe thead th {\n",
              "        text-align: right;\n",
              "    }\n",
              "</style>\n",
              "<table border=\"1\" class=\"dataframe\">\n",
              "  <thead>\n",
              "    <tr style=\"text-align: right;\">\n",
              "      <th></th>\n",
              "      <th>bedrooms</th>\n",
              "      <th>bathrooms</th>\n",
              "      <th>sqft_living</th>\n",
              "      <th>sqft_lot</th>\n",
              "      <th>floors</th>\n",
              "      <th>waterfront</th>\n",
              "      <th>view</th>\n",
              "      <th>condition</th>\n",
              "      <th>sqft_above</th>\n",
              "      <th>sqft_basement</th>\n",
              "    </tr>\n",
              "  </thead>\n",
              "  <tbody>\n",
              "    <tr>\n",
              "      <th>0</th>\n",
              "      <td>3.0</td>\n",
              "      <td>1.50</td>\n",
              "      <td>1340</td>\n",
              "      <td>7912</td>\n",
              "      <td>1.5</td>\n",
              "      <td>0</td>\n",
              "      <td>0</td>\n",
              "      <td>3</td>\n",
              "      <td>1340</td>\n",
              "      <td>0</td>\n",
              "    </tr>\n",
              "    <tr>\n",
              "      <th>1</th>\n",
              "      <td>5.0</td>\n",
              "      <td>2.50</td>\n",
              "      <td>3650</td>\n",
              "      <td>9050</td>\n",
              "      <td>2.0</td>\n",
              "      <td>0</td>\n",
              "      <td>4</td>\n",
              "      <td>5</td>\n",
              "      <td>3370</td>\n",
              "      <td>280</td>\n",
              "    </tr>\n",
              "    <tr>\n",
              "      <th>2</th>\n",
              "      <td>3.0</td>\n",
              "      <td>2.00</td>\n",
              "      <td>1930</td>\n",
              "      <td>11947</td>\n",
              "      <td>1.0</td>\n",
              "      <td>0</td>\n",
              "      <td>0</td>\n",
              "      <td>4</td>\n",
              "      <td>1930</td>\n",
              "      <td>0</td>\n",
              "    </tr>\n",
              "    <tr>\n",
              "      <th>3</th>\n",
              "      <td>3.0</td>\n",
              "      <td>2.25</td>\n",
              "      <td>2000</td>\n",
              "      <td>8030</td>\n",
              "      <td>1.0</td>\n",
              "      <td>0</td>\n",
              "      <td>0</td>\n",
              "      <td>4</td>\n",
              "      <td>1000</td>\n",
              "      <td>1000</td>\n",
              "    </tr>\n",
              "    <tr>\n",
              "      <th>4</th>\n",
              "      <td>4.0</td>\n",
              "      <td>2.50</td>\n",
              "      <td>1940</td>\n",
              "      <td>10500</td>\n",
              "      <td>1.0</td>\n",
              "      <td>0</td>\n",
              "      <td>0</td>\n",
              "      <td>4</td>\n",
              "      <td>1140</td>\n",
              "      <td>800</td>\n",
              "    </tr>\n",
              "  </tbody>\n",
              "</table>\n",
              "</div>"
            ],
            "text/plain": [
              "   bedrooms  bathrooms  sqft_living  ...  condition  sqft_above  sqft_basement\n",
              "0       3.0       1.50         1340  ...          3        1340              0\n",
              "1       5.0       2.50         3650  ...          5        3370            280\n",
              "2       3.0       2.00         1930  ...          4        1930              0\n",
              "3       3.0       2.25         2000  ...          4        1000           1000\n",
              "4       4.0       2.50         1940  ...          4        1140            800\n",
              "\n",
              "[5 rows x 10 columns]"
            ]
          },
          "metadata": {
            "tags": []
          },
          "execution_count": 118
        }
      ]
    },
    {
      "cell_type": "code",
      "metadata": {
        "id": "EdmVX0zmsBqn",
        "colab": {
          "base_uri": "https://localhost:8080/",
          "height": 202
        },
        "outputId": "0994410f-79fe-483b-8681-85c538a96631"
      },
      "source": [
        "X = X/X.max()\n",
        "X.head()"
      ],
      "execution_count": null,
      "outputs": [
        {
          "output_type": "execute_result",
          "data": {
            "text/html": [
              "<div>\n",
              "<style scoped>\n",
              "    .dataframe tbody tr th:only-of-type {\n",
              "        vertical-align: middle;\n",
              "    }\n",
              "\n",
              "    .dataframe tbody tr th {\n",
              "        vertical-align: top;\n",
              "    }\n",
              "\n",
              "    .dataframe thead th {\n",
              "        text-align: right;\n",
              "    }\n",
              "</style>\n",
              "<table border=\"1\" class=\"dataframe\">\n",
              "  <thead>\n",
              "    <tr style=\"text-align: right;\">\n",
              "      <th></th>\n",
              "      <th>bedrooms</th>\n",
              "      <th>bathrooms</th>\n",
              "      <th>sqft_living</th>\n",
              "      <th>sqft_lot</th>\n",
              "      <th>floors</th>\n",
              "      <th>waterfront</th>\n",
              "      <th>view</th>\n",
              "      <th>condition</th>\n",
              "      <th>sqft_above</th>\n",
              "      <th>sqft_basement</th>\n",
              "    </tr>\n",
              "  </thead>\n",
              "  <tbody>\n",
              "    <tr>\n",
              "      <th>0</th>\n",
              "      <td>0.333333</td>\n",
              "      <td>0.18750</td>\n",
              "      <td>0.098966</td>\n",
              "      <td>0.007365</td>\n",
              "      <td>0.428571</td>\n",
              "      <td>0.0</td>\n",
              "      <td>0.0</td>\n",
              "      <td>0.6</td>\n",
              "      <td>0.142402</td>\n",
              "      <td>0.000000</td>\n",
              "    </tr>\n",
              "    <tr>\n",
              "      <th>1</th>\n",
              "      <td>0.555556</td>\n",
              "      <td>0.31250</td>\n",
              "      <td>0.269572</td>\n",
              "      <td>0.008425</td>\n",
              "      <td>0.571429</td>\n",
              "      <td>0.0</td>\n",
              "      <td>1.0</td>\n",
              "      <td>1.0</td>\n",
              "      <td>0.358130</td>\n",
              "      <td>0.058091</td>\n",
              "    </tr>\n",
              "    <tr>\n",
              "      <th>2</th>\n",
              "      <td>0.333333</td>\n",
              "      <td>0.25000</td>\n",
              "      <td>0.142541</td>\n",
              "      <td>0.011122</td>\n",
              "      <td>0.285714</td>\n",
              "      <td>0.0</td>\n",
              "      <td>0.0</td>\n",
              "      <td>0.8</td>\n",
              "      <td>0.205101</td>\n",
              "      <td>0.000000</td>\n",
              "    </tr>\n",
              "    <tr>\n",
              "      <th>3</th>\n",
              "      <td>0.333333</td>\n",
              "      <td>0.28125</td>\n",
              "      <td>0.147710</td>\n",
              "      <td>0.007475</td>\n",
              "      <td>0.285714</td>\n",
              "      <td>0.0</td>\n",
              "      <td>0.0</td>\n",
              "      <td>0.8</td>\n",
              "      <td>0.106270</td>\n",
              "      <td>0.207469</td>\n",
              "    </tr>\n",
              "    <tr>\n",
              "      <th>4</th>\n",
              "      <td>0.444444</td>\n",
              "      <td>0.31250</td>\n",
              "      <td>0.143279</td>\n",
              "      <td>0.009775</td>\n",
              "      <td>0.285714</td>\n",
              "      <td>0.0</td>\n",
              "      <td>0.0</td>\n",
              "      <td>0.8</td>\n",
              "      <td>0.121148</td>\n",
              "      <td>0.165975</td>\n",
              "    </tr>\n",
              "  </tbody>\n",
              "</table>\n",
              "</div>"
            ],
            "text/plain": [
              "   bedrooms  bathrooms  sqft_living  ...  condition  sqft_above  sqft_basement\n",
              "0  0.333333    0.18750     0.098966  ...        0.6    0.142402       0.000000\n",
              "1  0.555556    0.31250     0.269572  ...        1.0    0.358130       0.058091\n",
              "2  0.333333    0.25000     0.142541  ...        0.8    0.205101       0.000000\n",
              "3  0.333333    0.28125     0.147710  ...        0.8    0.106270       0.207469\n",
              "4  0.444444    0.31250     0.143279  ...        0.8    0.121148       0.165975\n",
              "\n",
              "[5 rows x 10 columns]"
            ]
          },
          "metadata": {
            "tags": []
          },
          "execution_count": 119
        }
      ]
    },
    {
      "cell_type": "code",
      "metadata": {
        "id": "xygQQpURrk66",
        "colab": {
          "base_uri": "https://localhost:8080/"
        },
        "outputId": "a90203f2-29ba-4918-d02a-36a5b7cbde8d"
      },
      "source": [
        "y=df['price']\n",
        "y.head()"
      ],
      "execution_count": null,
      "outputs": [
        {
          "output_type": "execute_result",
          "data": {
            "text/plain": [
              "0     313000.0\n",
              "1    2384000.0\n",
              "2     342000.0\n",
              "3     420000.0\n",
              "4     550000.0\n",
              "Name: price, dtype: float64"
            ]
          },
          "metadata": {
            "tags": []
          },
          "execution_count": 120
        }
      ]
    },
    {
      "cell_type": "code",
      "metadata": {
        "id": "rv-vluZrsk7H",
        "colab": {
          "base_uri": "https://localhost:8080/"
        },
        "outputId": "e5e3445f-a077-4879-d739-961ed0f4c7cf"
      },
      "source": [
        "from sklearn.model_selection import train_test_split\n",
        "X_train,X_test,y_train,y_test = train_test_split(X,y,test_size = 0.3, random_state=3)\n",
        "print(X_train)\n",
        "print(X_test)"
      ],
      "execution_count": null,
      "outputs": [
        {
          "output_type": "stream",
          "text": [
            "      bedrooms  bathrooms  sqft_living  ...  condition  sqft_above  sqft_basement\n",
            "2876  0.444444    0.25000     0.132201  ...        0.8    0.177471       0.024896\n",
            "2693  0.333333    0.25000     0.138848  ...        1.0    0.109458       0.176349\n",
            "2792  0.333333    0.25000     0.123338  ...        0.6    0.124336       0.103734\n",
            "1170  0.444444    0.28125     0.173560  ...        0.8    0.151966       0.190871\n",
            "1403  0.222222    0.12500     0.067208  ...        0.6    0.096706       0.000000\n",
            "...        ...        ...          ...  ...        ...         ...            ...\n",
            "789   0.444444    0.40625     0.230428  ...        0.6    0.251860       0.155602\n",
            "968   0.444444    0.12500     0.097489  ...        0.6    0.140276       0.000000\n",
            "1667  0.222222    0.31250     0.101920  ...        0.6    0.121148       0.049793\n",
            "3321  0.444444    0.31250     0.183900  ...        0.8    0.264612       0.000000\n",
            "1688  0.333333    0.18750     0.135894  ...        1.0    0.195537       0.000000\n",
            "\n",
            "[3220 rows x 10 columns]\n",
            "      bedrooms  bathrooms  sqft_living  ...  condition  sqft_above  sqft_basement\n",
            "486   0.444444    0.31250     0.220089  ...        0.6    0.307120       0.018672\n",
            "3206  0.444444    0.21875     0.171344  ...        1.0    0.193411       0.103734\n",
            "811   0.333333    0.25000     0.163959  ...        0.8    0.129649       0.207469\n",
            "1948  0.555556    0.37500     0.180207  ...        0.6    0.154091       0.205394\n",
            "2488  0.444444    0.31250     0.178730  ...        0.6    0.180659       0.149378\n",
            "...        ...        ...          ...  ...        ...         ...            ...\n",
            "2099  0.444444    0.21875     0.141802  ...        0.8    0.159405       0.087137\n",
            "4020  0.555556    0.25000     0.206795  ...        0.8    0.148778       0.290456\n",
            "208   0.333333    0.12500     0.090842  ...        1.0    0.130712       0.000000\n",
            "1165  0.444444    0.21875     0.202363  ...        0.6    0.145590       0.284232\n",
            "263   0.333333    0.31250     0.181684  ...        0.8    0.197662       0.124481\n",
            "\n",
            "[1380 rows x 10 columns]\n"
          ],
          "name": "stdout"
        }
      ]
    },
    {
      "cell_type": "markdown",
      "metadata": {
        "id": "TPeOoFtb6q5A"
      },
      "source": [
        "# **TOPIK: DATA PREPROCESSING FOR CLUSTERING (B2)**"
      ]
    },
    {
      "cell_type": "markdown",
      "metadata": {
        "id": "09v8JFiv6x8M"
      },
      "source": [
        "1. Diberikan suatu dataset https://www.kaggle.com/uciml/iris\n",
        "apakah data tersebut bisa menjadi kasus clustering (pengelompokan berdasarkan kemiripan data?) jelaskan menurut bahasa anda dan variable apa yang dihilangkan agar kasus-nya menjadi clustering. baca dataset dengan Python\n",
        "\n",
        "2. jelaskan bagaimana cara mengatasi missing value, tuliskan dalam Python\n",
        "\n",
        "3. ubahlah format yang sesuai dengan tugas clustering (misalkan nilai harus bernilai integer, dan kalimat harus bernilai string, dll) atau tugas lainnya.. tuliskan dalam Python\n",
        "\n",
        "4. apakah perlu ada normalisasi pada dataset? jika iya, metode normalisasi apa yang anda gunakan? jelaskan pilihan anda, tuliskan dalam Python\n",
        "\n",
        "5. pisahkan dataset menjadi data latih dan data uji menggunakan Python sklearn train test split yang sebelumnya perlu dipisahkan terlebih dahulu variable X merupakan independent variable dan variable y merupakan dependent variable, tuliskan dalam Python\n"
      ]
    },
    {
      "cell_type": "markdown",
      "metadata": {
        "id": "dswRreNz_lQk"
      },
      "source": [
        "Data set iris dapat digunakan sebagai study kasus clustering. karna terdapat variabel target yang menampung kategori atau jenis yang dapat di ketahui melalui suatu kemiripan data. Selain data yang berukuran kecil. dalam dataset ini tidak ditemukan missing value. namun ada beberapa kolom yang sama atau duplicated"
      ]
    },
    {
      "cell_type": "code",
      "metadata": {
        "colab": {
          "base_uri": "https://localhost:8080/",
          "height": 202
        },
        "id": "V_APcdOjAXD7",
        "outputId": "536e1d85-1e9f-40b8-9dfc-98af34135fda"
      },
      "source": [
        "dt2=pd.read_csv('Iris.csv')\n",
        "df2=pd.DataFrame(dt2)\n",
        "df2.head()"
      ],
      "execution_count": null,
      "outputs": [
        {
          "output_type": "execute_result",
          "data": {
            "text/html": [
              "<div>\n",
              "<style scoped>\n",
              "    .dataframe tbody tr th:only-of-type {\n",
              "        vertical-align: middle;\n",
              "    }\n",
              "\n",
              "    .dataframe tbody tr th {\n",
              "        vertical-align: top;\n",
              "    }\n",
              "\n",
              "    .dataframe thead th {\n",
              "        text-align: right;\n",
              "    }\n",
              "</style>\n",
              "<table border=\"1\" class=\"dataframe\">\n",
              "  <thead>\n",
              "    <tr style=\"text-align: right;\">\n",
              "      <th></th>\n",
              "      <th>Id</th>\n",
              "      <th>SepalLengthCm</th>\n",
              "      <th>SepalWidthCm</th>\n",
              "      <th>PetalLengthCm</th>\n",
              "      <th>PetalWidthCm</th>\n",
              "      <th>Species</th>\n",
              "    </tr>\n",
              "  </thead>\n",
              "  <tbody>\n",
              "    <tr>\n",
              "      <th>0</th>\n",
              "      <td>1</td>\n",
              "      <td>5.1</td>\n",
              "      <td>3.5</td>\n",
              "      <td>1.4</td>\n",
              "      <td>0.2</td>\n",
              "      <td>Iris-setosa</td>\n",
              "    </tr>\n",
              "    <tr>\n",
              "      <th>1</th>\n",
              "      <td>2</td>\n",
              "      <td>4.9</td>\n",
              "      <td>3.0</td>\n",
              "      <td>1.4</td>\n",
              "      <td>0.2</td>\n",
              "      <td>Iris-setosa</td>\n",
              "    </tr>\n",
              "    <tr>\n",
              "      <th>2</th>\n",
              "      <td>3</td>\n",
              "      <td>4.7</td>\n",
              "      <td>3.2</td>\n",
              "      <td>1.3</td>\n",
              "      <td>0.2</td>\n",
              "      <td>Iris-setosa</td>\n",
              "    </tr>\n",
              "    <tr>\n",
              "      <th>3</th>\n",
              "      <td>4</td>\n",
              "      <td>4.6</td>\n",
              "      <td>3.1</td>\n",
              "      <td>1.5</td>\n",
              "      <td>0.2</td>\n",
              "      <td>Iris-setosa</td>\n",
              "    </tr>\n",
              "    <tr>\n",
              "      <th>4</th>\n",
              "      <td>5</td>\n",
              "      <td>5.0</td>\n",
              "      <td>3.6</td>\n",
              "      <td>1.4</td>\n",
              "      <td>0.2</td>\n",
              "      <td>Iris-setosa</td>\n",
              "    </tr>\n",
              "  </tbody>\n",
              "</table>\n",
              "</div>"
            ],
            "text/plain": [
              "   Id  SepalLengthCm  SepalWidthCm  PetalLengthCm  PetalWidthCm      Species\n",
              "0   1            5.1           3.5            1.4           0.2  Iris-setosa\n",
              "1   2            4.9           3.0            1.4           0.2  Iris-setosa\n",
              "2   3            4.7           3.2            1.3           0.2  Iris-setosa\n",
              "3   4            4.6           3.1            1.5           0.2  Iris-setosa\n",
              "4   5            5.0           3.6            1.4           0.2  Iris-setosa"
            ]
          },
          "metadata": {
            "tags": []
          },
          "execution_count": 122
        }
      ]
    },
    {
      "cell_type": "code",
      "metadata": {
        "id": "pZAl1y4GDRrD"
      },
      "source": [
        "df2.drop(columns='Id', inplace=True)"
      ],
      "execution_count": null,
      "outputs": []
    },
    {
      "cell_type": "code",
      "metadata": {
        "colab": {
          "base_uri": "https://localhost:8080/"
        },
        "id": "nDACEhP7AwcM",
        "outputId": "9bec5da0-10da-4530-8aa9-b8ffea1f3a37"
      },
      "source": [
        "df2.isna().sum()"
      ],
      "execution_count": null,
      "outputs": [
        {
          "output_type": "execute_result",
          "data": {
            "text/plain": [
              "SepalLengthCm    0\n",
              "SepalWidthCm     0\n",
              "PetalLengthCm    0\n",
              "PetalWidthCm     0\n",
              "Species          0\n",
              "dtype: int64"
            ]
          },
          "metadata": {
            "tags": []
          },
          "execution_count": 124
        }
      ]
    },
    {
      "cell_type": "code",
      "metadata": {
        "colab": {
          "base_uri": "https://localhost:8080/"
        },
        "id": "ShFsWEo1At5K",
        "outputId": "027f4dba-3517-4d3f-d3d1-b5f682fca3ac"
      },
      "source": [
        "df2.info()"
      ],
      "execution_count": null,
      "outputs": [
        {
          "output_type": "stream",
          "text": [
            "<class 'pandas.core.frame.DataFrame'>\n",
            "RangeIndex: 150 entries, 0 to 149\n",
            "Data columns (total 5 columns):\n",
            " #   Column         Non-Null Count  Dtype  \n",
            "---  ------         --------------  -----  \n",
            " 0   SepalLengthCm  150 non-null    float64\n",
            " 1   SepalWidthCm   150 non-null    float64\n",
            " 2   PetalLengthCm  150 non-null    float64\n",
            " 3   PetalWidthCm   150 non-null    float64\n",
            " 4   Species        150 non-null    object \n",
            "dtypes: float64(4), object(1)\n",
            "memory usage: 6.0+ KB\n"
          ],
          "name": "stdout"
        }
      ]
    },
    {
      "cell_type": "code",
      "metadata": {
        "colab": {
          "base_uri": "https://localhost:8080/"
        },
        "id": "UfMVdnUOA7Cr",
        "outputId": "7350bf9b-a4e2-4f29-b214-bfa57ac7639e"
      },
      "source": [
        "df2['Species']"
      ],
      "execution_count": null,
      "outputs": [
        {
          "output_type": "execute_result",
          "data": {
            "text/plain": [
              "0         Iris-setosa\n",
              "1         Iris-setosa\n",
              "2         Iris-setosa\n",
              "3         Iris-setosa\n",
              "4         Iris-setosa\n",
              "            ...      \n",
              "145    Iris-virginica\n",
              "146    Iris-virginica\n",
              "147    Iris-virginica\n",
              "148    Iris-virginica\n",
              "149    Iris-virginica\n",
              "Name: Species, Length: 150, dtype: object"
            ]
          },
          "metadata": {
            "tags": []
          },
          "execution_count": 126
        }
      ]
    },
    {
      "cell_type": "code",
      "metadata": {
        "colab": {
          "base_uri": "https://localhost:8080/"
        },
        "id": "Nj7Gjw8aBUtX",
        "outputId": "d6bb201f-071a-4b8a-f068-5e71ea3d4274"
      },
      "source": [
        "df2['Species']=df2['Species'].astype('category')\n",
        "df2['Species'].dtypes"
      ],
      "execution_count": null,
      "outputs": [
        {
          "output_type": "execute_result",
          "data": {
            "text/plain": [
              "CategoricalDtype(categories=['Iris-setosa', 'Iris-versicolor', 'Iris-virginica'], ordered=False)"
            ]
          },
          "metadata": {
            "tags": []
          },
          "execution_count": 127
        }
      ]
    },
    {
      "cell_type": "code",
      "metadata": {
        "colab": {
          "base_uri": "https://localhost:8080/",
          "height": 294
        },
        "id": "-ZWxaFzcDGLz",
        "outputId": "1752c135-e001-41ef-a794-2483fab71b2f"
      },
      "source": [
        "df2.describe() #Tidak perlu normalisasi"
      ],
      "execution_count": null,
      "outputs": [
        {
          "output_type": "execute_result",
          "data": {
            "text/html": [
              "<div>\n",
              "<style scoped>\n",
              "    .dataframe tbody tr th:only-of-type {\n",
              "        vertical-align: middle;\n",
              "    }\n",
              "\n",
              "    .dataframe tbody tr th {\n",
              "        vertical-align: top;\n",
              "    }\n",
              "\n",
              "    .dataframe thead th {\n",
              "        text-align: right;\n",
              "    }\n",
              "</style>\n",
              "<table border=\"1\" class=\"dataframe\">\n",
              "  <thead>\n",
              "    <tr style=\"text-align: right;\">\n",
              "      <th></th>\n",
              "      <th>SepalLengthCm</th>\n",
              "      <th>SepalWidthCm</th>\n",
              "      <th>PetalLengthCm</th>\n",
              "      <th>PetalWidthCm</th>\n",
              "    </tr>\n",
              "  </thead>\n",
              "  <tbody>\n",
              "    <tr>\n",
              "      <th>count</th>\n",
              "      <td>150.000000</td>\n",
              "      <td>150.000000</td>\n",
              "      <td>150.000000</td>\n",
              "      <td>150.000000</td>\n",
              "    </tr>\n",
              "    <tr>\n",
              "      <th>mean</th>\n",
              "      <td>5.843333</td>\n",
              "      <td>3.054000</td>\n",
              "      <td>3.758667</td>\n",
              "      <td>1.198667</td>\n",
              "    </tr>\n",
              "    <tr>\n",
              "      <th>std</th>\n",
              "      <td>0.828066</td>\n",
              "      <td>0.433594</td>\n",
              "      <td>1.764420</td>\n",
              "      <td>0.763161</td>\n",
              "    </tr>\n",
              "    <tr>\n",
              "      <th>min</th>\n",
              "      <td>4.300000</td>\n",
              "      <td>2.000000</td>\n",
              "      <td>1.000000</td>\n",
              "      <td>0.100000</td>\n",
              "    </tr>\n",
              "    <tr>\n",
              "      <th>25%</th>\n",
              "      <td>5.100000</td>\n",
              "      <td>2.800000</td>\n",
              "      <td>1.600000</td>\n",
              "      <td>0.300000</td>\n",
              "    </tr>\n",
              "    <tr>\n",
              "      <th>50%</th>\n",
              "      <td>5.800000</td>\n",
              "      <td>3.000000</td>\n",
              "      <td>4.350000</td>\n",
              "      <td>1.300000</td>\n",
              "    </tr>\n",
              "    <tr>\n",
              "      <th>75%</th>\n",
              "      <td>6.400000</td>\n",
              "      <td>3.300000</td>\n",
              "      <td>5.100000</td>\n",
              "      <td>1.800000</td>\n",
              "    </tr>\n",
              "    <tr>\n",
              "      <th>max</th>\n",
              "      <td>7.900000</td>\n",
              "      <td>4.400000</td>\n",
              "      <td>6.900000</td>\n",
              "      <td>2.500000</td>\n",
              "    </tr>\n",
              "  </tbody>\n",
              "</table>\n",
              "</div>"
            ],
            "text/plain": [
              "       SepalLengthCm  SepalWidthCm  PetalLengthCm  PetalWidthCm\n",
              "count     150.000000    150.000000     150.000000    150.000000\n",
              "mean        5.843333      3.054000       3.758667      1.198667\n",
              "std         0.828066      0.433594       1.764420      0.763161\n",
              "min         4.300000      2.000000       1.000000      0.100000\n",
              "25%         5.100000      2.800000       1.600000      0.300000\n",
              "50%         5.800000      3.000000       4.350000      1.300000\n",
              "75%         6.400000      3.300000       5.100000      1.800000\n",
              "max         7.900000      4.400000       6.900000      2.500000"
            ]
          },
          "metadata": {
            "tags": []
          },
          "execution_count": 128
        }
      ]
    },
    {
      "cell_type": "code",
      "metadata": {
        "colab": {
          "base_uri": "https://localhost:8080/",
          "height": 84
        },
        "id": "o-ZQBC0rDms1",
        "outputId": "abef02ee-d165-4c75-a142-4e27bbc46634"
      },
      "source": [
        "df2[df.duplicated()] "
      ],
      "execution_count": null,
      "outputs": [
        {
          "output_type": "stream",
          "text": [
            "/usr/local/lib/python3.7/dist-packages/ipykernel_launcher.py:1: UserWarning: Boolean Series key will be reindexed to match DataFrame index.\n",
            "  \"\"\"Entry point for launching an IPython kernel.\n"
          ],
          "name": "stderr"
        },
        {
          "output_type": "execute_result",
          "data": {
            "text/html": [
              "<div>\n",
              "<style scoped>\n",
              "    .dataframe tbody tr th:only-of-type {\n",
              "        vertical-align: middle;\n",
              "    }\n",
              "\n",
              "    .dataframe tbody tr th {\n",
              "        vertical-align: top;\n",
              "    }\n",
              "\n",
              "    .dataframe thead th {\n",
              "        text-align: right;\n",
              "    }\n",
              "</style>\n",
              "<table border=\"1\" class=\"dataframe\">\n",
              "  <thead>\n",
              "    <tr style=\"text-align: right;\">\n",
              "      <th></th>\n",
              "      <th>SepalLengthCm</th>\n",
              "      <th>SepalWidthCm</th>\n",
              "      <th>PetalLengthCm</th>\n",
              "      <th>PetalWidthCm</th>\n",
              "      <th>Species</th>\n",
              "    </tr>\n",
              "  </thead>\n",
              "  <tbody>\n",
              "  </tbody>\n",
              "</table>\n",
              "</div>"
            ],
            "text/plain": [
              "Empty DataFrame\n",
              "Columns: [SepalLengthCm, SepalWidthCm, PetalLengthCm, PetalWidthCm, Species]\n",
              "Index: []"
            ]
          },
          "metadata": {
            "tags": []
          },
          "execution_count": 129
        }
      ]
    },
    {
      "cell_type": "code",
      "metadata": {
        "colab": {
          "base_uri": "https://localhost:8080/"
        },
        "id": "7aNYNAASEBPI",
        "outputId": "f6b3fcd1-3ca3-40f6-c3f0-f06eec51fa9c"
      },
      "source": [
        "df2.shape"
      ],
      "execution_count": null,
      "outputs": [
        {
          "output_type": "execute_result",
          "data": {
            "text/plain": [
              "(150, 5)"
            ]
          },
          "metadata": {
            "tags": []
          },
          "execution_count": 130
        }
      ]
    },
    {
      "cell_type": "code",
      "metadata": {
        "colab": {
          "base_uri": "https://localhost:8080/"
        },
        "id": "Z5qyzxTND69l",
        "outputId": "6d99b87e-7204-4c43-999c-29b5ce737ade"
      },
      "source": [
        "df2.drop_duplicates(inplace=True)\n",
        "df2.shape"
      ],
      "execution_count": null,
      "outputs": [
        {
          "output_type": "execute_result",
          "data": {
            "text/plain": [
              "(147, 5)"
            ]
          },
          "metadata": {
            "tags": []
          },
          "execution_count": 131
        }
      ]
    },
    {
      "cell_type": "code",
      "metadata": {
        "colab": {
          "base_uri": "https://localhost:8080/",
          "height": 202
        },
        "id": "RwqJCERqETmo",
        "outputId": "f3fc3657-4904-4086-c3a1-51b167f98c7a"
      },
      "source": [
        "X2=df2.drop(['Species'],axis=1)\n",
        "X2.head()"
      ],
      "execution_count": null,
      "outputs": [
        {
          "output_type": "execute_result",
          "data": {
            "text/html": [
              "<div>\n",
              "<style scoped>\n",
              "    .dataframe tbody tr th:only-of-type {\n",
              "        vertical-align: middle;\n",
              "    }\n",
              "\n",
              "    .dataframe tbody tr th {\n",
              "        vertical-align: top;\n",
              "    }\n",
              "\n",
              "    .dataframe thead th {\n",
              "        text-align: right;\n",
              "    }\n",
              "</style>\n",
              "<table border=\"1\" class=\"dataframe\">\n",
              "  <thead>\n",
              "    <tr style=\"text-align: right;\">\n",
              "      <th></th>\n",
              "      <th>SepalLengthCm</th>\n",
              "      <th>SepalWidthCm</th>\n",
              "      <th>PetalLengthCm</th>\n",
              "      <th>PetalWidthCm</th>\n",
              "    </tr>\n",
              "  </thead>\n",
              "  <tbody>\n",
              "    <tr>\n",
              "      <th>0</th>\n",
              "      <td>5.1</td>\n",
              "      <td>3.5</td>\n",
              "      <td>1.4</td>\n",
              "      <td>0.2</td>\n",
              "    </tr>\n",
              "    <tr>\n",
              "      <th>1</th>\n",
              "      <td>4.9</td>\n",
              "      <td>3.0</td>\n",
              "      <td>1.4</td>\n",
              "      <td>0.2</td>\n",
              "    </tr>\n",
              "    <tr>\n",
              "      <th>2</th>\n",
              "      <td>4.7</td>\n",
              "      <td>3.2</td>\n",
              "      <td>1.3</td>\n",
              "      <td>0.2</td>\n",
              "    </tr>\n",
              "    <tr>\n",
              "      <th>3</th>\n",
              "      <td>4.6</td>\n",
              "      <td>3.1</td>\n",
              "      <td>1.5</td>\n",
              "      <td>0.2</td>\n",
              "    </tr>\n",
              "    <tr>\n",
              "      <th>4</th>\n",
              "      <td>5.0</td>\n",
              "      <td>3.6</td>\n",
              "      <td>1.4</td>\n",
              "      <td>0.2</td>\n",
              "    </tr>\n",
              "  </tbody>\n",
              "</table>\n",
              "</div>"
            ],
            "text/plain": [
              "   SepalLengthCm  SepalWidthCm  PetalLengthCm  PetalWidthCm\n",
              "0            5.1           3.5            1.4           0.2\n",
              "1            4.9           3.0            1.4           0.2\n",
              "2            4.7           3.2            1.3           0.2\n",
              "3            4.6           3.1            1.5           0.2\n",
              "4            5.0           3.6            1.4           0.2"
            ]
          },
          "metadata": {
            "tags": []
          },
          "execution_count": 132
        }
      ]
    },
    {
      "cell_type": "code",
      "metadata": {
        "colab": {
          "base_uri": "https://localhost:8080/"
        },
        "id": "SJri3xGmEqVt",
        "outputId": "3e95081c-0a45-41a6-c5c2-089802caa848"
      },
      "source": [
        "y2=df2['Species']\n",
        "y2.head()"
      ],
      "execution_count": null,
      "outputs": [
        {
          "output_type": "execute_result",
          "data": {
            "text/plain": [
              "0    Iris-setosa\n",
              "1    Iris-setosa\n",
              "2    Iris-setosa\n",
              "3    Iris-setosa\n",
              "4    Iris-setosa\n",
              "Name: Species, dtype: category\n",
              "Categories (3, object): ['Iris-setosa', 'Iris-versicolor', 'Iris-virginica']"
            ]
          },
          "metadata": {
            "tags": []
          },
          "execution_count": 133
        }
      ]
    },
    {
      "cell_type": "code",
      "metadata": {
        "colab": {
          "base_uri": "https://localhost:8080/"
        },
        "id": "mk86NAgsEwwy",
        "outputId": "e4379669-ee5a-4104-e5cd-0266b2e6d886"
      },
      "source": [
        "X2_train,X2_test,y2_train,y2_test = train_test_split(X2,y2,test_size = 0.3, random_state=3)\n",
        "print(X2_train)\n",
        "print(X2_test)"
      ],
      "execution_count": null,
      "outputs": [
        {
          "output_type": "stream",
          "text": [
            "     SepalLengthCm  SepalWidthCm  PetalLengthCm  PetalWidthCm\n",
            "98             5.1           2.5            3.0           1.1\n",
            "148            6.2           3.4            5.4           2.3\n",
            "35             5.0           3.2            1.2           0.2\n",
            "74             6.4           2.9            4.3           1.3\n",
            "19             5.1           3.8            1.5           0.3\n",
            "..             ...           ...            ...           ...\n",
            "109            7.2           3.6            6.1           2.5\n",
            "21             5.1           3.7            1.5           0.4\n",
            "0              5.1           3.5            1.4           0.2\n",
            "133            6.3           2.8            5.1           1.5\n",
            "108            6.7           2.5            5.8           1.8\n",
            "\n",
            "[102 rows x 4 columns]\n",
            "     SepalLengthCm  SepalWidthCm  PetalLengthCm  PetalWidthCm\n",
            "25             5.0           3.0            1.6           0.2\n",
            "6              4.6           3.4            1.4           0.3\n",
            "3              4.6           3.1            1.5           0.2\n",
            "42             4.4           3.2            1.3           0.2\n",
            "43             5.0           3.5            1.6           0.6\n",
            "70             5.9           3.2            4.8           1.8\n",
            "78             6.0           2.9            4.5           1.5\n",
            "15             5.7           4.4            1.5           0.4\n",
            "144            6.7           3.3            5.7           2.5\n",
            "110            6.5           3.2            5.1           2.0\n",
            "97             6.2           2.9            4.3           1.3\n",
            "123            6.3           2.7            4.9           1.8\n",
            "72             6.3           2.5            4.9           1.5\n",
            "86             6.7           3.1            4.7           1.5\n",
            "132            6.4           2.8            5.6           2.2\n",
            "44             5.1           3.8            1.9           0.4\n",
            "5              5.4           3.9            1.7           0.4\n",
            "67             5.8           2.7            4.1           1.0\n",
            "120            6.9           3.2            5.7           2.3\n",
            "115            6.4           3.2            5.3           2.3\n",
            "55             5.7           2.8            4.5           1.3\n",
            "14             5.8           4.0            1.2           0.2\n",
            "139            6.9           3.1            5.4           2.1\n",
            "40             5.0           3.5            1.3           0.3\n",
            "8              4.4           2.9            1.4           0.2\n",
            "60             5.0           2.0            3.5           1.0\n",
            "102            7.1           3.0            5.9           2.1\n",
            "27             5.2           3.5            1.5           0.2\n",
            "75             6.6           3.0            4.4           1.4\n",
            "85             6.0           3.4            4.5           1.6\n",
            "31             5.4           3.4            1.5           0.4\n",
            "100            6.3           3.3            6.0           2.5\n",
            "69             5.6           2.5            3.9           1.1\n",
            "145            6.7           3.0            5.2           2.3\n",
            "124            6.7           3.3            5.7           2.1\n",
            "79             5.7           2.6            3.5           1.0\n",
            "22             4.6           3.6            1.0           0.2\n",
            "17             5.1           3.5            1.4           0.3\n",
            "59             5.2           2.7            3.9           1.4\n",
            "52             6.9           3.1            4.9           1.5\n",
            "23             5.1           3.3            1.7           0.5\n",
            "113            5.7           2.5            5.0           2.0\n",
            "90             5.5           2.6            4.4           1.2\n",
            "47             4.6           3.2            1.4           0.2\n",
            "36             5.5           3.5            1.3           0.2\n"
          ],
          "name": "stdout"
        }
      ]
    },
    {
      "cell_type": "markdown",
      "metadata": {
        "id": "p5DRSlEd8Ufw"
      },
      "source": [
        "# **TOPIK: DATA PREPROCESSING FOR CLASSIFICATION (B3)**"
      ]
    },
    {
      "cell_type": "markdown",
      "metadata": {
        "id": "tnMjRZRT8jwe"
      },
      "source": [
        "1. Diberikan suatu dataset https://www.kaggle.com/ronitf/heart-disease-uci\n",
        "apakah data tersebut bisa menjadi kasus classification (pengelompokan berdasarkan class data?) jelaskan menurut bahasa anda dan variable apa yang dihilangkan agar kasus-nya menjadi clustering. baca dataset dengan Python\n",
        "\n",
        "2. jelaskan bagaimana cara mengatasi missing value, tuliskan dalam Python\n",
        "\n",
        "3. ubahlah format yang sesuai dengan tugas classification (misalkan nilai harus bernilai integer, dan kalimat harus bernilai string, dll) atau tugas lainnya.. tuliskan dalam Python\n",
        "\n",
        "4. apakah perlu ada normalisasi pada dataset? jika iya, metode normalisasi apa yang anda gunakan? jelaskan pilihan anda, tuliskan dalam Python\n",
        "\n",
        "5. pisahkan dataset menjadi data latih dan data uji menggunakan Python sklearn train test split yang sebelumnya perlu dipisahkan terlebih dahulu variable X merupakan independent variable dan variable y merupakan dependent variable, tuliskan dalam Python\n"
      ]
    },
    {
      "cell_type": "markdown",
      "metadata": {
        "id": "ZqKwWjbQGtk_"
      },
      "source": [
        "Data heart.csv merupakand ata yang sering digunkan untuk studi kasus classification atau pengelompokan data berdasarkan class data karena Dataset ini berisi beberapa informasi medis pasien yang memberi tahu apakah orang tersebut mendapat peluang serangan jantung."
      ]
    },
    {
      "cell_type": "code",
      "metadata": {
        "id": "tZrogO8u8db1",
        "colab": {
          "base_uri": "https://localhost:8080/"
        },
        "outputId": "d33eb43e-c245-4250-b355-9814ed3210a9"
      },
      "source": [
        "dt3=pd.read_csv('heart.csv')\n",
        "df3=pd.DataFrame(dt3)\n",
        "df3.head()"
      ],
      "execution_count": null,
      "outputs": [
        {
          "output_type": "execute_result",
          "data": {
            "text/html": [
              "<div>\n",
              "<style scoped>\n",
              "    .dataframe tbody tr th:only-of-type {\n",
              "        vertical-align: middle;\n",
              "    }\n",
              "\n",
              "    .dataframe tbody tr th {\n",
              "        vertical-align: top;\n",
              "    }\n",
              "\n",
              "    .dataframe thead th {\n",
              "        text-align: right;\n",
              "    }\n",
              "</style>\n",
              "<table border=\"1\" class=\"dataframe\">\n",
              "  <thead>\n",
              "    <tr style=\"text-align: right;\">\n",
              "      <th></th>\n",
              "      <th>age</th>\n",
              "      <th>sex</th>\n",
              "      <th>cp</th>\n",
              "      <th>trestbps</th>\n",
              "      <th>chol</th>\n",
              "      <th>fbs</th>\n",
              "      <th>restecg</th>\n",
              "      <th>thalach</th>\n",
              "      <th>exang</th>\n",
              "      <th>oldpeak</th>\n",
              "      <th>slope</th>\n",
              "      <th>ca</th>\n",
              "      <th>thal</th>\n",
              "      <th>target</th>\n",
              "    </tr>\n",
              "  </thead>\n",
              "  <tbody>\n",
              "    <tr>\n",
              "      <th>0</th>\n",
              "      <td>63</td>\n",
              "      <td>1</td>\n",
              "      <td>3</td>\n",
              "      <td>145</td>\n",
              "      <td>233</td>\n",
              "      <td>1</td>\n",
              "      <td>0</td>\n",
              "      <td>150</td>\n",
              "      <td>0</td>\n",
              "      <td>2.3</td>\n",
              "      <td>0</td>\n",
              "      <td>0</td>\n",
              "      <td>1</td>\n",
              "      <td>1</td>\n",
              "    </tr>\n",
              "    <tr>\n",
              "      <th>1</th>\n",
              "      <td>37</td>\n",
              "      <td>1</td>\n",
              "      <td>2</td>\n",
              "      <td>130</td>\n",
              "      <td>250</td>\n",
              "      <td>0</td>\n",
              "      <td>1</td>\n",
              "      <td>187</td>\n",
              "      <td>0</td>\n",
              "      <td>3.5</td>\n",
              "      <td>0</td>\n",
              "      <td>0</td>\n",
              "      <td>2</td>\n",
              "      <td>1</td>\n",
              "    </tr>\n",
              "    <tr>\n",
              "      <th>2</th>\n",
              "      <td>41</td>\n",
              "      <td>0</td>\n",
              "      <td>1</td>\n",
              "      <td>130</td>\n",
              "      <td>204</td>\n",
              "      <td>0</td>\n",
              "      <td>0</td>\n",
              "      <td>172</td>\n",
              "      <td>0</td>\n",
              "      <td>1.4</td>\n",
              "      <td>2</td>\n",
              "      <td>0</td>\n",
              "      <td>2</td>\n",
              "      <td>1</td>\n",
              "    </tr>\n",
              "    <tr>\n",
              "      <th>3</th>\n",
              "      <td>56</td>\n",
              "      <td>1</td>\n",
              "      <td>1</td>\n",
              "      <td>120</td>\n",
              "      <td>236</td>\n",
              "      <td>0</td>\n",
              "      <td>1</td>\n",
              "      <td>178</td>\n",
              "      <td>0</td>\n",
              "      <td>0.8</td>\n",
              "      <td>2</td>\n",
              "      <td>0</td>\n",
              "      <td>2</td>\n",
              "      <td>1</td>\n",
              "    </tr>\n",
              "    <tr>\n",
              "      <th>4</th>\n",
              "      <td>57</td>\n",
              "      <td>0</td>\n",
              "      <td>0</td>\n",
              "      <td>120</td>\n",
              "      <td>354</td>\n",
              "      <td>0</td>\n",
              "      <td>1</td>\n",
              "      <td>163</td>\n",
              "      <td>1</td>\n",
              "      <td>0.6</td>\n",
              "      <td>2</td>\n",
              "      <td>0</td>\n",
              "      <td>2</td>\n",
              "      <td>1</td>\n",
              "    </tr>\n",
              "  </tbody>\n",
              "</table>\n",
              "</div>"
            ],
            "text/plain": [
              "   age  sex  cp  trestbps  chol  fbs  ...  exang  oldpeak  slope  ca  thal  target\n",
              "0   63    1   3       145   233    1  ...      0      2.3      0   0     1       1\n",
              "1   37    1   2       130   250    0  ...      0      3.5      0   0     2       1\n",
              "2   41    0   1       130   204    0  ...      0      1.4      2   0     2       1\n",
              "3   56    1   1       120   236    0  ...      0      0.8      2   0     2       1\n",
              "4   57    0   0       120   354    0  ...      1      0.6      2   0     2       1\n",
              "\n",
              "[5 rows x 14 columns]"
            ]
          },
          "metadata": {
            "tags": []
          },
          "execution_count": 135
        }
      ]
    },
    {
      "cell_type": "code",
      "metadata": {
        "colab": {
          "base_uri": "https://localhost:8080/"
        },
        "id": "MpSXTEKiKJrH",
        "outputId": "241ab56b-0349-467c-b037-7656180c6d0e"
      },
      "source": [
        "df3.shape"
      ],
      "execution_count": null,
      "outputs": [
        {
          "output_type": "execute_result",
          "data": {
            "text/plain": [
              "(303, 14)"
            ]
          },
          "metadata": {
            "tags": []
          },
          "execution_count": 136
        }
      ]
    },
    {
      "cell_type": "code",
      "metadata": {
        "colab": {
          "base_uri": "https://localhost:8080/"
        },
        "id": "0hsIPLqrKalC",
        "outputId": "882b83f6-8046-4fa8-eb8a-7cd69fff6f32"
      },
      "source": [
        "df3.describe()"
      ],
      "execution_count": null,
      "outputs": [
        {
          "output_type": "execute_result",
          "data": {
            "text/html": [
              "<div>\n",
              "<style scoped>\n",
              "    .dataframe tbody tr th:only-of-type {\n",
              "        vertical-align: middle;\n",
              "    }\n",
              "\n",
              "    .dataframe tbody tr th {\n",
              "        vertical-align: top;\n",
              "    }\n",
              "\n",
              "    .dataframe thead th {\n",
              "        text-align: right;\n",
              "    }\n",
              "</style>\n",
              "<table border=\"1\" class=\"dataframe\">\n",
              "  <thead>\n",
              "    <tr style=\"text-align: right;\">\n",
              "      <th></th>\n",
              "      <th>age</th>\n",
              "      <th>sex</th>\n",
              "      <th>cp</th>\n",
              "      <th>trestbps</th>\n",
              "      <th>chol</th>\n",
              "      <th>fbs</th>\n",
              "      <th>restecg</th>\n",
              "      <th>thalach</th>\n",
              "      <th>exang</th>\n",
              "      <th>oldpeak</th>\n",
              "      <th>slope</th>\n",
              "      <th>ca</th>\n",
              "      <th>thal</th>\n",
              "      <th>target</th>\n",
              "    </tr>\n",
              "  </thead>\n",
              "  <tbody>\n",
              "    <tr>\n",
              "      <th>count</th>\n",
              "      <td>303.000000</td>\n",
              "      <td>303.000000</td>\n",
              "      <td>303.000000</td>\n",
              "      <td>303.000000</td>\n",
              "      <td>303.000000</td>\n",
              "      <td>303.000000</td>\n",
              "      <td>303.000000</td>\n",
              "      <td>303.000000</td>\n",
              "      <td>303.000000</td>\n",
              "      <td>303.000000</td>\n",
              "      <td>303.000000</td>\n",
              "      <td>303.000000</td>\n",
              "      <td>303.000000</td>\n",
              "      <td>303.000000</td>\n",
              "    </tr>\n",
              "    <tr>\n",
              "      <th>mean</th>\n",
              "      <td>54.366337</td>\n",
              "      <td>0.683168</td>\n",
              "      <td>0.966997</td>\n",
              "      <td>131.623762</td>\n",
              "      <td>246.264026</td>\n",
              "      <td>0.148515</td>\n",
              "      <td>0.528053</td>\n",
              "      <td>149.646865</td>\n",
              "      <td>0.326733</td>\n",
              "      <td>1.039604</td>\n",
              "      <td>1.399340</td>\n",
              "      <td>0.729373</td>\n",
              "      <td>2.313531</td>\n",
              "      <td>0.544554</td>\n",
              "    </tr>\n",
              "    <tr>\n",
              "      <th>std</th>\n",
              "      <td>9.082101</td>\n",
              "      <td>0.466011</td>\n",
              "      <td>1.032052</td>\n",
              "      <td>17.538143</td>\n",
              "      <td>51.830751</td>\n",
              "      <td>0.356198</td>\n",
              "      <td>0.525860</td>\n",
              "      <td>22.905161</td>\n",
              "      <td>0.469794</td>\n",
              "      <td>1.161075</td>\n",
              "      <td>0.616226</td>\n",
              "      <td>1.022606</td>\n",
              "      <td>0.612277</td>\n",
              "      <td>0.498835</td>\n",
              "    </tr>\n",
              "    <tr>\n",
              "      <th>min</th>\n",
              "      <td>29.000000</td>\n",
              "      <td>0.000000</td>\n",
              "      <td>0.000000</td>\n",
              "      <td>94.000000</td>\n",
              "      <td>126.000000</td>\n",
              "      <td>0.000000</td>\n",
              "      <td>0.000000</td>\n",
              "      <td>71.000000</td>\n",
              "      <td>0.000000</td>\n",
              "      <td>0.000000</td>\n",
              "      <td>0.000000</td>\n",
              "      <td>0.000000</td>\n",
              "      <td>0.000000</td>\n",
              "      <td>0.000000</td>\n",
              "    </tr>\n",
              "    <tr>\n",
              "      <th>25%</th>\n",
              "      <td>47.500000</td>\n",
              "      <td>0.000000</td>\n",
              "      <td>0.000000</td>\n",
              "      <td>120.000000</td>\n",
              "      <td>211.000000</td>\n",
              "      <td>0.000000</td>\n",
              "      <td>0.000000</td>\n",
              "      <td>133.500000</td>\n",
              "      <td>0.000000</td>\n",
              "      <td>0.000000</td>\n",
              "      <td>1.000000</td>\n",
              "      <td>0.000000</td>\n",
              "      <td>2.000000</td>\n",
              "      <td>0.000000</td>\n",
              "    </tr>\n",
              "    <tr>\n",
              "      <th>50%</th>\n",
              "      <td>55.000000</td>\n",
              "      <td>1.000000</td>\n",
              "      <td>1.000000</td>\n",
              "      <td>130.000000</td>\n",
              "      <td>240.000000</td>\n",
              "      <td>0.000000</td>\n",
              "      <td>1.000000</td>\n",
              "      <td>153.000000</td>\n",
              "      <td>0.000000</td>\n",
              "      <td>0.800000</td>\n",
              "      <td>1.000000</td>\n",
              "      <td>0.000000</td>\n",
              "      <td>2.000000</td>\n",
              "      <td>1.000000</td>\n",
              "    </tr>\n",
              "    <tr>\n",
              "      <th>75%</th>\n",
              "      <td>61.000000</td>\n",
              "      <td>1.000000</td>\n",
              "      <td>2.000000</td>\n",
              "      <td>140.000000</td>\n",
              "      <td>274.500000</td>\n",
              "      <td>0.000000</td>\n",
              "      <td>1.000000</td>\n",
              "      <td>166.000000</td>\n",
              "      <td>1.000000</td>\n",
              "      <td>1.600000</td>\n",
              "      <td>2.000000</td>\n",
              "      <td>1.000000</td>\n",
              "      <td>3.000000</td>\n",
              "      <td>1.000000</td>\n",
              "    </tr>\n",
              "    <tr>\n",
              "      <th>max</th>\n",
              "      <td>77.000000</td>\n",
              "      <td>1.000000</td>\n",
              "      <td>3.000000</td>\n",
              "      <td>200.000000</td>\n",
              "      <td>564.000000</td>\n",
              "      <td>1.000000</td>\n",
              "      <td>2.000000</td>\n",
              "      <td>202.000000</td>\n",
              "      <td>1.000000</td>\n",
              "      <td>6.200000</td>\n",
              "      <td>2.000000</td>\n",
              "      <td>4.000000</td>\n",
              "      <td>3.000000</td>\n",
              "      <td>1.000000</td>\n",
              "    </tr>\n",
              "  </tbody>\n",
              "</table>\n",
              "</div>"
            ],
            "text/plain": [
              "              age         sex          cp  ...          ca        thal      target\n",
              "count  303.000000  303.000000  303.000000  ...  303.000000  303.000000  303.000000\n",
              "mean    54.366337    0.683168    0.966997  ...    0.729373    2.313531    0.544554\n",
              "std      9.082101    0.466011    1.032052  ...    1.022606    0.612277    0.498835\n",
              "min     29.000000    0.000000    0.000000  ...    0.000000    0.000000    0.000000\n",
              "25%     47.500000    0.000000    0.000000  ...    0.000000    2.000000    0.000000\n",
              "50%     55.000000    1.000000    1.000000  ...    0.000000    2.000000    1.000000\n",
              "75%     61.000000    1.000000    2.000000  ...    1.000000    3.000000    1.000000\n",
              "max     77.000000    1.000000    3.000000  ...    4.000000    3.000000    1.000000\n",
              "\n",
              "[8 rows x 14 columns]"
            ]
          },
          "metadata": {
            "tags": []
          },
          "execution_count": 137
        }
      ]
    },
    {
      "cell_type": "code",
      "metadata": {
        "colab": {
          "base_uri": "https://localhost:8080/"
        },
        "id": "r7HDsHffKlaZ",
        "outputId": "6045b152-ec71-4f3a-9c92-86cefa084cfe"
      },
      "source": [
        "# missing values\n",
        "df3.isnull().sum()"
      ],
      "execution_count": null,
      "outputs": [
        {
          "output_type": "execute_result",
          "data": {
            "text/plain": [
              "age         0\n",
              "sex         0\n",
              "cp          0\n",
              "trestbps    0\n",
              "chol        0\n",
              "fbs         0\n",
              "restecg     0\n",
              "thalach     0\n",
              "exang       0\n",
              "oldpeak     0\n",
              "slope       0\n",
              "ca          0\n",
              "thal        0\n",
              "target      0\n",
              "dtype: int64"
            ]
          },
          "metadata": {
            "tags": []
          },
          "execution_count": 138
        }
      ]
    },
    {
      "cell_type": "code",
      "metadata": {
        "colab": {
          "base_uri": "https://localhost:8080/"
        },
        "id": "9JU4ug-uKrWh",
        "outputId": "fdd5a564-d0b5-42df-cc54-dfc9929d5e39"
      },
      "source": [
        "df3.info()"
      ],
      "execution_count": null,
      "outputs": [
        {
          "output_type": "stream",
          "text": [
            "<class 'pandas.core.frame.DataFrame'>\n",
            "RangeIndex: 303 entries, 0 to 302\n",
            "Data columns (total 14 columns):\n",
            " #   Column    Non-Null Count  Dtype  \n",
            "---  ------    --------------  -----  \n",
            " 0   age       303 non-null    int64  \n",
            " 1   sex       303 non-null    int64  \n",
            " 2   cp        303 non-null    int64  \n",
            " 3   trestbps  303 non-null    int64  \n",
            " 4   chol      303 non-null    int64  \n",
            " 5   fbs       303 non-null    int64  \n",
            " 6   restecg   303 non-null    int64  \n",
            " 7   thalach   303 non-null    int64  \n",
            " 8   exang     303 non-null    int64  \n",
            " 9   oldpeak   303 non-null    float64\n",
            " 10  slope     303 non-null    int64  \n",
            " 11  ca        303 non-null    int64  \n",
            " 12  thal      303 non-null    int64  \n",
            " 13  target    303 non-null    int64  \n",
            "dtypes: float64(1), int64(13)\n",
            "memory usage: 33.3 KB\n"
          ],
          "name": "stdout"
        }
      ]
    },
    {
      "cell_type": "code",
      "metadata": {
        "colab": {
          "base_uri": "https://localhost:8080/"
        },
        "id": "V18CxMQWLLqN",
        "outputId": "38aba7fd-f4f4-4459-9176-628bec104f32"
      },
      "source": [
        "plt.figure(figsize=(12,8)) \n",
        "sns.heatmap(df3.corr(), annot=True, cmap='gist_heat', linewidths = 2)\n",
        "plt.show()"
      ],
      "execution_count": null,
      "outputs": [
        {
          "output_type": "display_data",
          "data": {
            "image/png": "[encoded data removed]",
            "text/plain": [
              "<Figure size 864x576 with 2 Axes>"
            ]
          },
          "metadata": {
            "tags": [],
            "needs_background": "light"
          }
        }
      ]
    },
    {
      "cell_type": "code",
      "metadata": {
        "colab": {
          "base_uri": "https://localhost:8080/"
        },
        "id": "j3oLKDjSLdyy",
        "outputId": "7a65d4a1-3270-49e5-92db-8313a703dbe2"
      },
      "source": [
        "y3 = df3[\"target\"]\n",
        "X3 = df3.drop('target',axis=1)\n",
        "X3_train, X3_test, y3_train, y3_test = train_test_split(X3, y3, test_size=0.20, random_state = 0)\n",
        "print(X3_train)\n",
        "print(X3_test)"
      ],
      "execution_count": null,
      "outputs": [
        {
          "output_type": "stream",
          "text": [
            "     age  sex  cp  trestbps  chol  ...  exang  oldpeak  slope  ca  thal\n",
            "74    43    0   2       122   213  ...      0      0.2      1   0     2\n",
            "153   66    0   2       146   278  ...      0      0.0      1   1     2\n",
            "64    58    1   2       140   211  ...      0      0.0      2   0     2\n",
            "296   63    0   0       124   197  ...      1      0.0      1   0     2\n",
            "287   57    1   1       154   232  ...      0      0.0      2   1     2\n",
            "..   ...  ...  ..       ...   ...  ...    ...      ...    ...  ..   ...\n",
            "251   43    1   0       132   247  ...      1      0.1      1   4     3\n",
            "192   54    1   0       120   188  ...      0      1.4      1   1     3\n",
            "117   56    1   3       120   193  ...      0      1.9      1   0     3\n",
            "47    47    1   2       138   257  ...      0      0.0      2   0     2\n",
            "172   58    1   1       120   284  ...      0      1.8      1   0     2\n",
            "\n",
            "[242 rows x 13 columns]\n",
            "     age  sex  cp  trestbps  chol  ...  exang  oldpeak  slope  ca  thal\n",
            "225   70    1   0       145   174  ...      1      2.6      0   0     3\n",
            "152   64    1   3       170   227  ...      0      0.6      1   0     3\n",
            "228   59    1   3       170   288  ...      0      0.2      1   0     3\n",
            "201   60    1   0       125   258  ...      1      2.8      1   1     3\n",
            "52    62    1   2       130   231  ...      0      1.8      1   3     3\n",
            "..   ...  ...  ..       ...   ...  ...    ...      ...    ...  ..   ...\n",
            "146   44    0   2       118   242  ...      0      0.3      1   1     2\n",
            "302   57    0   1       130   236  ...      0      0.0      1   1     2\n",
            "26    59    1   2       150   212  ...      0      1.6      2   0     2\n",
            "108   50    0   1       120   244  ...      0      1.1      2   0     2\n",
            "89    58    0   0       100   248  ...      0      1.0      1   0     2\n",
            "\n",
            "[61 rows x 13 columns]\n"
          ],
          "name": "stdout"
        }
      ]
    },
    {
      "cell_type": "code",
      "metadata": {
        "id": "FNMrGJ9sL34o"
      },
      "source": [
        "#metode Normalisasi menggunakan sklearn.preprocessing\n",
        "from sklearn.preprocessing import StandardScaler\n",
        "scaler = StandardScaler()\n",
        "\n",
        "X3_train = scaler.fit_transform(X3_train)\n",
        "X3_test = scaler.transform(X3_test)"
      ],
      "execution_count": null,
      "outputs": []
    },
    {
      "cell_type": "markdown",
      "metadata": {
        "id": "dcQwR8Qm8yBU"
      },
      "source": [
        "# **TOPIK: DATA DEPENDENCY VISUALIZATION (C1)**"
      ]
    },
    {
      "cell_type": "markdown",
      "metadata": {
        "id": "pZ_VTGn3843R"
      },
      "source": [
        "1. pada dataset A1 dan B1, identifikasi korelasi antara feature (independent variable) dan dependent variable dengan matrix korelasi, tuliskan dalam Python\n",
        "2. pada no.1, bagian mana yang memiiki korelasi yang kuat, jelaskan alasan nya\n",
        "3. gambarkan visualisasi dari feature\n",
        "4. gambarkan visualisasi dari class label\n",
        "5. gambarkan visualisasi dari atribut\n",
        "6. gambarkan visualisasi dari aliran data"
      ]
    },
    {
      "cell_type": "code",
      "metadata": {
        "colab": {
          "base_uri": "https://localhost:8080/",
          "height": 448
        },
        "id": "YoXR8F81MkI5",
        "outputId": "bc221753-bc28-4278-c898-1d9444394320"
      },
      "source": [
        "df.corr()"
      ],
      "execution_count": null,
      "outputs": [
        {
          "output_type": "execute_result",
          "data": {
            "text/html": [
              "<div>\n",
              "<style scoped>\n",
              "    .dataframe tbody tr th:only-of-type {\n",
              "        vertical-align: middle;\n",
              "    }\n",
              "\n",
              "    .dataframe tbody tr th {\n",
              "        vertical-align: top;\n",
              "    }\n",
              "\n",
              "    .dataframe thead th {\n",
              "        text-align: right;\n",
              "    }\n",
              "</style>\n",
              "<table border=\"1\" class=\"dataframe\">\n",
              "  <thead>\n",
              "    <tr style=\"text-align: right;\">\n",
              "      <th></th>\n",
              "      <th>price</th>\n",
              "      <th>bedrooms</th>\n",
              "      <th>bathrooms</th>\n",
              "      <th>sqft_living</th>\n",
              "      <th>sqft_lot</th>\n",
              "      <th>floors</th>\n",
              "      <th>waterfront</th>\n",
              "      <th>view</th>\n",
              "      <th>condition</th>\n",
              "      <th>sqft_above</th>\n",
              "      <th>sqft_basement</th>\n",
              "      <th>yr_built</th>\n",
              "      <th>yr_renovated</th>\n",
              "    </tr>\n",
              "  </thead>\n",
              "  <tbody>\n",
              "    <tr>\n",
              "      <th>price</th>\n",
              "      <td>1.000000</td>\n",
              "      <td>0.212960</td>\n",
              "      <td>0.340319</td>\n",
              "      <td>0.441811</td>\n",
              "      <td>0.051310</td>\n",
              "      <td>0.151855</td>\n",
              "      <td>0.145223</td>\n",
              "      <td>0.239531</td>\n",
              "      <td>0.039649</td>\n",
              "      <td>0.376873</td>\n",
              "      <td>0.216805</td>\n",
              "      <td>0.021551</td>\n",
              "      <td>-0.028849</td>\n",
              "    </tr>\n",
              "    <tr>\n",
              "      <th>bedrooms</th>\n",
              "      <td>0.212960</td>\n",
              "      <td>1.000000</td>\n",
              "      <td>0.544027</td>\n",
              "      <td>0.600231</td>\n",
              "      <td>0.069105</td>\n",
              "      <td>0.182837</td>\n",
              "      <td>-0.003656</td>\n",
              "      <td>0.113230</td>\n",
              "      <td>0.023874</td>\n",
              "      <td>0.490840</td>\n",
              "      <td>0.333865</td>\n",
              "      <td>0.144124</td>\n",
              "      <td>-0.058910</td>\n",
              "    </tr>\n",
              "    <tr>\n",
              "      <th>bathrooms</th>\n",
              "      <td>0.340319</td>\n",
              "      <td>0.544027</td>\n",
              "      <td>1.000000</td>\n",
              "      <td>0.764936</td>\n",
              "      <td>0.108071</td>\n",
              "      <td>0.490354</td>\n",
              "      <td>0.076240</td>\n",
              "      <td>0.213635</td>\n",
              "      <td>-0.121099</td>\n",
              "      <td>0.694376</td>\n",
              "      <td>0.297589</td>\n",
              "      <td>0.465133</td>\n",
              "      <td>-0.214567</td>\n",
              "    </tr>\n",
              "    <tr>\n",
              "      <th>sqft_living</th>\n",
              "      <td>0.441811</td>\n",
              "      <td>0.600231</td>\n",
              "      <td>0.764936</td>\n",
              "      <td>1.000000</td>\n",
              "      <td>0.210538</td>\n",
              "      <td>0.344850</td>\n",
              "      <td>0.117616</td>\n",
              "      <td>0.311009</td>\n",
              "      <td>-0.062826</td>\n",
              "      <td>0.876443</td>\n",
              "      <td>0.447206</td>\n",
              "      <td>0.287775</td>\n",
              "      <td>-0.122817</td>\n",
              "    </tr>\n",
              "    <tr>\n",
              "      <th>sqft_lot</th>\n",
              "      <td>0.051310</td>\n",
              "      <td>0.069105</td>\n",
              "      <td>0.108071</td>\n",
              "      <td>0.210538</td>\n",
              "      <td>1.000000</td>\n",
              "      <td>0.003750</td>\n",
              "      <td>0.017241</td>\n",
              "      <td>0.073907</td>\n",
              "      <td>0.000558</td>\n",
              "      <td>0.216455</td>\n",
              "      <td>0.034842</td>\n",
              "      <td>0.050706</td>\n",
              "      <td>-0.022730</td>\n",
              "    </tr>\n",
              "    <tr>\n",
              "      <th>floors</th>\n",
              "      <td>0.151855</td>\n",
              "      <td>0.182837</td>\n",
              "      <td>0.490354</td>\n",
              "      <td>0.344850</td>\n",
              "      <td>0.003750</td>\n",
              "      <td>1.000000</td>\n",
              "      <td>0.022024</td>\n",
              "      <td>0.031211</td>\n",
              "      <td>-0.275013</td>\n",
              "      <td>0.522814</td>\n",
              "      <td>-0.255510</td>\n",
              "      <td>0.467481</td>\n",
              "      <td>-0.233996</td>\n",
              "    </tr>\n",
              "    <tr>\n",
              "      <th>waterfront</th>\n",
              "      <td>0.145223</td>\n",
              "      <td>-0.003656</td>\n",
              "      <td>0.076240</td>\n",
              "      <td>0.117616</td>\n",
              "      <td>0.017241</td>\n",
              "      <td>0.022024</td>\n",
              "      <td>1.000000</td>\n",
              "      <td>0.360935</td>\n",
              "      <td>0.000352</td>\n",
              "      <td>0.078911</td>\n",
              "      <td>0.097501</td>\n",
              "      <td>-0.023563</td>\n",
              "      <td>0.008625</td>\n",
              "    </tr>\n",
              "    <tr>\n",
              "      <th>view</th>\n",
              "      <td>0.239531</td>\n",
              "      <td>0.113230</td>\n",
              "      <td>0.213635</td>\n",
              "      <td>0.311009</td>\n",
              "      <td>0.073907</td>\n",
              "      <td>0.031211</td>\n",
              "      <td>0.360935</td>\n",
              "      <td>1.000000</td>\n",
              "      <td>0.063077</td>\n",
              "      <td>0.174327</td>\n",
              "      <td>0.321602</td>\n",
              "      <td>-0.064465</td>\n",
              "      <td>0.022967</td>\n",
              "    </tr>\n",
              "    <tr>\n",
              "      <th>condition</th>\n",
              "      <td>0.039649</td>\n",
              "      <td>0.023874</td>\n",
              "      <td>-0.121099</td>\n",
              "      <td>-0.062826</td>\n",
              "      <td>0.000558</td>\n",
              "      <td>-0.275013</td>\n",
              "      <td>0.000352</td>\n",
              "      <td>0.063077</td>\n",
              "      <td>1.000000</td>\n",
              "      <td>-0.178196</td>\n",
              "      <td>0.200632</td>\n",
              "      <td>-0.399698</td>\n",
              "      <td>-0.186818</td>\n",
              "    </tr>\n",
              "    <tr>\n",
              "      <th>sqft_above</th>\n",
              "      <td>0.376873</td>\n",
              "      <td>0.490840</td>\n",
              "      <td>0.694376</td>\n",
              "      <td>0.876443</td>\n",
              "      <td>0.216455</td>\n",
              "      <td>0.522814</td>\n",
              "      <td>0.078911</td>\n",
              "      <td>0.174327</td>\n",
              "      <td>-0.178196</td>\n",
              "      <td>1.000000</td>\n",
              "      <td>-0.038723</td>\n",
              "      <td>0.408535</td>\n",
              "      <td>-0.160426</td>\n",
              "    </tr>\n",
              "    <tr>\n",
              "      <th>sqft_basement</th>\n",
              "      <td>0.216805</td>\n",
              "      <td>0.333865</td>\n",
              "      <td>0.297589</td>\n",
              "      <td>0.447206</td>\n",
              "      <td>0.034842</td>\n",
              "      <td>-0.255510</td>\n",
              "      <td>0.097501</td>\n",
              "      <td>0.321602</td>\n",
              "      <td>0.200632</td>\n",
              "      <td>-0.038723</td>\n",
              "      <td>1.000000</td>\n",
              "      <td>-0.161675</td>\n",
              "      <td>0.043125</td>\n",
              "    </tr>\n",
              "    <tr>\n",
              "      <th>yr_built</th>\n",
              "      <td>0.021551</td>\n",
              "      <td>0.144124</td>\n",
              "      <td>0.465133</td>\n",
              "      <td>0.287775</td>\n",
              "      <td>0.050706</td>\n",
              "      <td>0.467481</td>\n",
              "      <td>-0.023563</td>\n",
              "      <td>-0.064465</td>\n",
              "      <td>-0.399698</td>\n",
              "      <td>0.408535</td>\n",
              "      <td>-0.161675</td>\n",
              "      <td>1.000000</td>\n",
              "      <td>-0.321342</td>\n",
              "    </tr>\n",
              "    <tr>\n",
              "      <th>yr_renovated</th>\n",
              "      <td>-0.028849</td>\n",
              "      <td>-0.058910</td>\n",
              "      <td>-0.214567</td>\n",
              "      <td>-0.122817</td>\n",
              "      <td>-0.022730</td>\n",
              "      <td>-0.233996</td>\n",
              "      <td>0.008625</td>\n",
              "      <td>0.022967</td>\n",
              "      <td>-0.186818</td>\n",
              "      <td>-0.160426</td>\n",
              "      <td>0.043125</td>\n",
              "      <td>-0.321342</td>\n",
              "      <td>1.000000</td>\n",
              "    </tr>\n",
              "  </tbody>\n",
              "</table>\n",
              "</div>"
            ],
            "text/plain": [
              "                  price  bedrooms  ...  yr_built  yr_renovated\n",
              "price          1.000000  0.212960  ...  0.021551     -0.028849\n",
              "bedrooms       0.212960  1.000000  ...  0.144124     -0.058910\n",
              "bathrooms      0.340319  0.544027  ...  0.465133     -0.214567\n",
              "sqft_living    0.441811  0.600231  ...  0.287775     -0.122817\n",
              "sqft_lot       0.051310  0.069105  ...  0.050706     -0.022730\n",
              "floors         0.151855  0.182837  ...  0.467481     -0.233996\n",
              "waterfront     0.145223 -0.003656  ... -0.023563      0.008625\n",
              "view           0.239531  0.113230  ... -0.064465      0.022967\n",
              "condition      0.039649  0.023874  ... -0.399698     -0.186818\n",
              "sqft_above     0.376873  0.490840  ...  0.408535     -0.160426\n",
              "sqft_basement  0.216805  0.333865  ... -0.161675      0.043125\n",
              "yr_built       0.021551  0.144124  ...  1.000000     -0.321342\n",
              "yr_renovated  -0.028849 -0.058910  ... -0.321342      1.000000\n",
              "\n",
              "[13 rows x 13 columns]"
            ]
          },
          "metadata": {
            "tags": []
          },
          "execution_count": 143
        }
      ]
    },
    {
      "cell_type": "code",
      "metadata": {
        "colab": {
          "base_uri": "https://localhost:8080/",
          "height": 550
        },
        "id": "WsXFHWyuNNJb",
        "outputId": "cfb5130c-a0cc-4fbf-ad43-5ed16f321369"
      },
      "source": [
        "plt.figure(figsize=(12,8)) \n",
        "sns.heatmap(df.corr(), annot=True, cmap='gist_heat', linewidths = 2)\n",
        "plt.show()"
      ],
      "execution_count": null,
      "outputs": [
        {
          "output_type": "display_data",
          "data": {
            "image/png": "[encoded data removed]",
            "text/plain": [
              "<Figure size 864x576 with 2 Axes>"
            ]
          },
          "metadata": {
            "tags": [],
            "needs_background": "light"
          }
        }
      ]
    },
    {
      "cell_type": "markdown",
      "metadata": {
        "id": "ftbSlqr2Nqoa"
      },
      "source": [
        "Nilai korelasi pada sqft_living dan sqft_above lebih tinggi dibanding dengan variabel laiinya,\n",
        "untuk pembuktian kita dapat menggunakan Scipy Pearson Correlation"
      ]
    },
    {
      "cell_type": "code",
      "metadata": {
        "colab": {
          "base_uri": "https://localhost:8080/"
        },
        "id": "QJ5-iT7bNl8T",
        "outputId": "58df9d8d-afac-4dd2-9e0b-9c8945ddd004"
      },
      "source": [
        "import scipy\n",
        "x, y_ = scipy.stats.pearsonr(df['sqft_above'],df['sqft_living'])\n",
        "print(\"pearson Coef: \" + str(x))"
      ],
      "execution_count": null,
      "outputs": [
        {
          "output_type": "stream",
          "text": [
            "pearson Coef: 0.8764432459511073\n"
          ],
          "name": "stdout"
        }
      ]
    },
    {
      "cell_type": "code",
      "metadata": {
        "id": "gxl3OWaJOdWL"
      },
      "source": [
        "#Pending\n",
        "#datafeature = plt.hist(X,bins='auto')\n",
        "#plt.grid(color='darkgray',linestyle=':',linewidth=0.5)\n",
        "#plt.xlabel('Feature')\n",
        "#plt.tight_layout()\n",
        "#plt.show(datafeature)"
      ],
      "execution_count": null,
      "outputs": []
    },
    {
      "cell_type": "code",
      "metadata": {
        "id": "ui3AkczfRDuU"
      },
      "source": [
        "#pending\n",
        "#datalabel = plt.hist(y,bins='auto')\n",
        "#plt.xlabel('Label')\n",
        "#plt.tight_layout()\n",
        "#plt.show(datalabel)"
      ],
      "execution_count": null,
      "outputs": []
    },
    {
      "cell_type": "markdown",
      "metadata": {
        "id": "X2AsLmYb91cW"
      },
      "source": [
        "# **TOPIK: DATA FORECASTING (D1)**"
      ]
    },
    {
      "cell_type": "markdown",
      "metadata": {
        "id": "lwSpsV6k9633"
      },
      "source": [
        "1. Berdasarkan data A1, tentukan feature yang akan digunakan\n",
        "2. Buatlah rencana plan forecasting\n",
        "3. Interpretasikan data menuju variable yang dapat digunakan\n",
        "4. apakah dataset ini cocok untuk forecasting?\n",
        "5. analisa atribut yang memiliki korelasi tinggi?\n",
        "6. pilih feature yang digunakan untuk forecasting\n",
        "7. pilih algoritma forecasting yang tepat\n",
        "8. pilih Hyperparameter yang tepat\n",
        "9. analisa dataset secara sederhana\n",
        "10. analisa performa dari forecasting\n",
        "11. analisa akurasi dari forecasting\n",
        "12. analisa f-measure dengan sklearn"
      ]
    },
    {
      "cell_type": "markdown",
      "metadata": {
        "id": "yDbu9r6PdE8j"
      },
      "source": [
        "Feature yang akan di gunakan di dataset A1 adalah\n",
        "-bedrooms\n",
        "-bathrooms\n",
        "-sqft_living\n",
        "-sqft_lot\n",
        "-floors\n",
        "-waterfront\n",
        "-view\n",
        "-condition\n",
        "-sqft_above\n",
        "-sqft_basement\n",
        "\n",
        "metode forecasting yang akan digunakan adalah memprediksi harga rumah dengan parameter feature yang ada di X, dengan datauji sebagai data validasinya"
      ]
    },
    {
      "cell_type": "code",
      "metadata": {
        "id": "y1SqUAsmvMxU"
      },
      "source": [
        "#dataset sederhana untuk pengujian\n",
        "\n",
        "datauji = X*2\n",
        "X_uji = datauji"
      ],
      "execution_count": null,
      "outputs": []
    },
    {
      "cell_type": "code",
      "metadata": {
        "colab": {
          "base_uri": "https://localhost:8080/"
        },
        "id": "odreiH6vvOMy",
        "outputId": "7621ce24-d0d5-4fde-a788-88896cc3ed82"
      },
      "source": [
        "#fitting pada data training\n",
        "from sklearn.linear_model import LinearRegression\n",
        "regressor = LinearRegression()\n",
        "regressor.fit(X_train, y_train)\n",
        "\n",
        "#memprediksi hasil dengan data tes\n",
        "y_pred=regressor.predict(X_uji)\n",
        "print(y_pred)"
      ],
      "execution_count": null,
      "outputs": [
        {
          "output_type": "stream",
          "text": [
            "[ 723890.86545695 2475396.37448636 1113997.26705074 ... 1668559.06904459\n",
            " 1059189.24630166  952832.91538557]\n"
          ],
          "name": "stdout"
        }
      ]
    },
    {
      "cell_type": "code",
      "metadata": {
        "colab": {
          "base_uri": "https://localhost:8080/"
        },
        "id": "dk-NJqi2vx32",
        "outputId": "873d8a16-13f0-4846-daaf-4c8654492625"
      },
      "source": [
        "y.head()"
      ],
      "execution_count": null,
      "outputs": [
        {
          "output_type": "execute_result",
          "data": {
            "text/plain": [
              "0     313000.0\n",
              "1    2384000.0\n",
              "2     342000.0\n",
              "3     420000.0\n",
              "4     550000.0\n",
              "Name: price, dtype: float64"
            ]
          },
          "metadata": {
            "tags": []
          },
          "execution_count": 150
        }
      ]
    },
    {
      "cell_type": "code",
      "metadata": {
        "colab": {
          "base_uri": "https://localhost:8080/"
        },
        "id": "cJXZ8cJGgiyx",
        "outputId": "5a2d73a6-0ca9-4a00-ec35-ec572ee7e390"
      },
      "source": [
        "from sklearn.metrics import mean_squared_error\n",
        "mean_squared_error(y, y_pred)"
      ],
      "execution_count": null,
      "outputs": [
        {
          "output_type": "execute_result",
          "data": {
            "text/plain": [
              "754444330823.4121"
            ]
          },
          "metadata": {
            "tags": []
          },
          "execution_count": 151
        }
      ]
    },
    {
      "cell_type": "code",
      "metadata": {
        "id": "stNA66-OhODa"
      },
      "source": [
        "df.info()"
      ],
      "execution_count": null,
      "outputs": []
    },
    {
      "cell_type": "markdown",
      "metadata": {
        "id": "ioK2RH8S_aRJ"
      },
      "source": [
        "# **TOPIK: DATA CLUSTERING (E1)**"
      ]
    },
    {
      "cell_type": "markdown",
      "metadata": {
        "id": "yg0Lp3IT_evT"
      },
      "source": [
        "1. Berdasarkan data B2, tentukan feature yang akan digunakan\n",
        "2. Buatlah rencana plan clustering\n",
        "3. Interpretasikan data menuju variable yang dapat digunakan\n",
        "4. apakah dataset ini cocok untuk clustering?\n",
        "5. analisa atribut yang memiliki korelasi tinggi?\n",
        "6. pilih feature yang digunakan untuk clustering\n",
        "7. pilih algoritma clustering yang tepat\n",
        "8. pilih Hyperparameter yang tepat\n",
        "9. analisa dataset secara sederhana\n",
        "10. analisa homogenity dari clustering\n",
        "11. analisa heterogenity dari clustering\n",
        "12. analisa kualitas clustering dengan sklearn"
      ]
    },
    {
      "cell_type": "code",
      "metadata": {
        "id": "TgAg0pyi_t5N"
      },
      "source": [
        "#MASUKAN JAWABAN E1 disini (jika jawaban merupakan isian, gunakan comment Python #"
      ],
      "execution_count": null,
      "outputs": []
    },
    {
      "cell_type": "markdown",
      "metadata": {
        "id": "0jj3Jt1B_xkC"
      },
      "source": [
        "# **TOPIK: DATA CLASSIFICATION (F1)**"
      ]
    },
    {
      "cell_type": "markdown",
      "metadata": {
        "id": "VK2SFijX_7H3"
      },
      "source": [
        "1. Berdasarkan data B3, tentukan feature yang akan digunakan\n",
        "2. Buatlah rencana plan Classification\n",
        "3. Interpretasikan data menuju variable yang dapat digunakan\n",
        "4. apakah dataset ini cocok untuk Classification?\n",
        "5. analisa atribut yang memiliki korelasi tinggi?\n",
        "6. pilih feature yang digunakan untuk Classification\n",
        "7. pilih algoritma Classification yang tepat\n",
        "8. pilih Hyperparameter yang tepat\n",
        "9. analisa dataset secara sederhana\n",
        "10. analisa performa dari Classification\n",
        "11. analisa akurasi dari Classification\n",
        "12. analisa f-measure dengan sklearn"
      ]
    },
    {
      "cell_type": "code",
      "metadata": {
        "id": "zwdqOIjB_6bM"
      },
      "source": [
        "#MASUKAN JAWABAN F1 disini (jika jawaban merupakan isian, gunakan comment Python #"
      ],
      "execution_count": null,
      "outputs": []
    }
  ]
}